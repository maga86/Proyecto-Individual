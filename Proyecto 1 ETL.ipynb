{
 "cells": [
  {
   "cell_type": "code",
   "execution_count": 4,
   "metadata": {},
   "outputs": [],
   "source": [
    "import pandas as pd\n",
    "import numpy as np\n",
    "import re"
   ]
  },
  {
   "cell_type": "code",
   "execution_count": 5,
   "metadata": {},
   "outputs": [
    {
     "name": "stderr",
     "output_type": "stream",
     "text": [
      "C:\\Users\\Mario\\AppData\\Local\\Temp\\ipykernel_6316\\156969792.py:1: DtypeWarning: Columns (10) have mixed types. Specify dtype option on import or set low_memory=False.\n",
      "  mov = pd.read_csv('movies_dataset.csv')\n"
     ]
    },
    {
     "data": {
      "text/html": [
       "<div>\n",
       "<style scoped>\n",
       "    .dataframe tbody tr th:only-of-type {\n",
       "        vertical-align: middle;\n",
       "    }\n",
       "\n",
       "    .dataframe tbody tr th {\n",
       "        vertical-align: top;\n",
       "    }\n",
       "\n",
       "    .dataframe thead th {\n",
       "        text-align: right;\n",
       "    }\n",
       "</style>\n",
       "<table border=\"1\" class=\"dataframe\">\n",
       "  <thead>\n",
       "    <tr style=\"text-align: right;\">\n",
       "      <th></th>\n",
       "      <th>adult</th>\n",
       "      <th>belongs_to_collection</th>\n",
       "      <th>budget</th>\n",
       "      <th>genres</th>\n",
       "      <th>homepage</th>\n",
       "      <th>id</th>\n",
       "      <th>imdb_id</th>\n",
       "      <th>original_language</th>\n",
       "      <th>original_title</th>\n",
       "      <th>overview</th>\n",
       "      <th>...</th>\n",
       "      <th>release_date</th>\n",
       "      <th>revenue</th>\n",
       "      <th>runtime</th>\n",
       "      <th>spoken_languages</th>\n",
       "      <th>status</th>\n",
       "      <th>tagline</th>\n",
       "      <th>title</th>\n",
       "      <th>video</th>\n",
       "      <th>vote_average</th>\n",
       "      <th>vote_count</th>\n",
       "    </tr>\n",
       "  </thead>\n",
       "  <tbody>\n",
       "    <tr>\n",
       "      <th>0</th>\n",
       "      <td>False</td>\n",
       "      <td>{'id': 10194, 'name': 'Toy Story Collection', ...</td>\n",
       "      <td>30000000</td>\n",
       "      <td>[{'id': 16, 'name': 'Animation'}, {'id': 35, '...</td>\n",
       "      <td>http://toystory.disney.com/toy-story</td>\n",
       "      <td>862</td>\n",
       "      <td>tt0114709</td>\n",
       "      <td>en</td>\n",
       "      <td>Toy Story</td>\n",
       "      <td>Led by Woody, Andy's toys live happily in his ...</td>\n",
       "      <td>...</td>\n",
       "      <td>1995-10-30</td>\n",
       "      <td>373554033.0</td>\n",
       "      <td>81.0</td>\n",
       "      <td>[{'iso_639_1': 'en', 'name': 'English'}]</td>\n",
       "      <td>Released</td>\n",
       "      <td>NaN</td>\n",
       "      <td>Toy Story</td>\n",
       "      <td>False</td>\n",
       "      <td>7.7</td>\n",
       "      <td>5415.0</td>\n",
       "    </tr>\n",
       "    <tr>\n",
       "      <th>1</th>\n",
       "      <td>False</td>\n",
       "      <td>NaN</td>\n",
       "      <td>65000000</td>\n",
       "      <td>[{'id': 12, 'name': 'Adventure'}, {'id': 14, '...</td>\n",
       "      <td>NaN</td>\n",
       "      <td>8844</td>\n",
       "      <td>tt0113497</td>\n",
       "      <td>en</td>\n",
       "      <td>Jumanji</td>\n",
       "      <td>When siblings Judy and Peter discover an encha...</td>\n",
       "      <td>...</td>\n",
       "      <td>1995-12-15</td>\n",
       "      <td>262797249.0</td>\n",
       "      <td>104.0</td>\n",
       "      <td>[{'iso_639_1': 'en', 'name': 'English'}, {'iso...</td>\n",
       "      <td>Released</td>\n",
       "      <td>Roll the dice and unleash the excitement!</td>\n",
       "      <td>Jumanji</td>\n",
       "      <td>False</td>\n",
       "      <td>6.9</td>\n",
       "      <td>2413.0</td>\n",
       "    </tr>\n",
       "    <tr>\n",
       "      <th>2</th>\n",
       "      <td>False</td>\n",
       "      <td>{'id': 119050, 'name': 'Grumpy Old Men Collect...</td>\n",
       "      <td>0</td>\n",
       "      <td>[{'id': 10749, 'name': 'Romance'}, {'id': 35, ...</td>\n",
       "      <td>NaN</td>\n",
       "      <td>15602</td>\n",
       "      <td>tt0113228</td>\n",
       "      <td>en</td>\n",
       "      <td>Grumpier Old Men</td>\n",
       "      <td>A family wedding reignites the ancient feud be...</td>\n",
       "      <td>...</td>\n",
       "      <td>1995-12-22</td>\n",
       "      <td>0.0</td>\n",
       "      <td>101.0</td>\n",
       "      <td>[{'iso_639_1': 'en', 'name': 'English'}]</td>\n",
       "      <td>Released</td>\n",
       "      <td>Still Yelling. Still Fighting. Still Ready for...</td>\n",
       "      <td>Grumpier Old Men</td>\n",
       "      <td>False</td>\n",
       "      <td>6.5</td>\n",
       "      <td>92.0</td>\n",
       "    </tr>\n",
       "    <tr>\n",
       "      <th>3</th>\n",
       "      <td>False</td>\n",
       "      <td>NaN</td>\n",
       "      <td>16000000</td>\n",
       "      <td>[{'id': 35, 'name': 'Comedy'}, {'id': 18, 'nam...</td>\n",
       "      <td>NaN</td>\n",
       "      <td>31357</td>\n",
       "      <td>tt0114885</td>\n",
       "      <td>en</td>\n",
       "      <td>Waiting to Exhale</td>\n",
       "      <td>Cheated on, mistreated and stepped on, the wom...</td>\n",
       "      <td>...</td>\n",
       "      <td>1995-12-22</td>\n",
       "      <td>81452156.0</td>\n",
       "      <td>127.0</td>\n",
       "      <td>[{'iso_639_1': 'en', 'name': 'English'}]</td>\n",
       "      <td>Released</td>\n",
       "      <td>Friends are the people who let you be yourself...</td>\n",
       "      <td>Waiting to Exhale</td>\n",
       "      <td>False</td>\n",
       "      <td>6.1</td>\n",
       "      <td>34.0</td>\n",
       "    </tr>\n",
       "    <tr>\n",
       "      <th>4</th>\n",
       "      <td>False</td>\n",
       "      <td>{'id': 96871, 'name': 'Father of the Bride Col...</td>\n",
       "      <td>0</td>\n",
       "      <td>[{'id': 35, 'name': 'Comedy'}]</td>\n",
       "      <td>NaN</td>\n",
       "      <td>11862</td>\n",
       "      <td>tt0113041</td>\n",
       "      <td>en</td>\n",
       "      <td>Father of the Bride Part II</td>\n",
       "      <td>Just when George Banks has recovered from his ...</td>\n",
       "      <td>...</td>\n",
       "      <td>1995-02-10</td>\n",
       "      <td>76578911.0</td>\n",
       "      <td>106.0</td>\n",
       "      <td>[{'iso_639_1': 'en', 'name': 'English'}]</td>\n",
       "      <td>Released</td>\n",
       "      <td>Just When His World Is Back To Normal... He's ...</td>\n",
       "      <td>Father of the Bride Part II</td>\n",
       "      <td>False</td>\n",
       "      <td>5.7</td>\n",
       "      <td>173.0</td>\n",
       "    </tr>\n",
       "  </tbody>\n",
       "</table>\n",
       "<p>5 rows × 24 columns</p>\n",
       "</div>"
      ],
      "text/plain": [
       "   adult                              belongs_to_collection    budget  \\\n",
       "0  False  {'id': 10194, 'name': 'Toy Story Collection', ...  30000000   \n",
       "1  False                                                NaN  65000000   \n",
       "2  False  {'id': 119050, 'name': 'Grumpy Old Men Collect...         0   \n",
       "3  False                                                NaN  16000000   \n",
       "4  False  {'id': 96871, 'name': 'Father of the Bride Col...         0   \n",
       "\n",
       "                                              genres  \\\n",
       "0  [{'id': 16, 'name': 'Animation'}, {'id': 35, '...   \n",
       "1  [{'id': 12, 'name': 'Adventure'}, {'id': 14, '...   \n",
       "2  [{'id': 10749, 'name': 'Romance'}, {'id': 35, ...   \n",
       "3  [{'id': 35, 'name': 'Comedy'}, {'id': 18, 'nam...   \n",
       "4                     [{'id': 35, 'name': 'Comedy'}]   \n",
       "\n",
       "                               homepage     id    imdb_id original_language  \\\n",
       "0  http://toystory.disney.com/toy-story    862  tt0114709                en   \n",
       "1                                   NaN   8844  tt0113497                en   \n",
       "2                                   NaN  15602  tt0113228                en   \n",
       "3                                   NaN  31357  tt0114885                en   \n",
       "4                                   NaN  11862  tt0113041                en   \n",
       "\n",
       "                original_title  \\\n",
       "0                    Toy Story   \n",
       "1                      Jumanji   \n",
       "2             Grumpier Old Men   \n",
       "3            Waiting to Exhale   \n",
       "4  Father of the Bride Part II   \n",
       "\n",
       "                                            overview  ... release_date  \\\n",
       "0  Led by Woody, Andy's toys live happily in his ...  ...   1995-10-30   \n",
       "1  When siblings Judy and Peter discover an encha...  ...   1995-12-15   \n",
       "2  A family wedding reignites the ancient feud be...  ...   1995-12-22   \n",
       "3  Cheated on, mistreated and stepped on, the wom...  ...   1995-12-22   \n",
       "4  Just when George Banks has recovered from his ...  ...   1995-02-10   \n",
       "\n",
       "       revenue runtime                                   spoken_languages  \\\n",
       "0  373554033.0    81.0           [{'iso_639_1': 'en', 'name': 'English'}]   \n",
       "1  262797249.0   104.0  [{'iso_639_1': 'en', 'name': 'English'}, {'iso...   \n",
       "2          0.0   101.0           [{'iso_639_1': 'en', 'name': 'English'}]   \n",
       "3   81452156.0   127.0           [{'iso_639_1': 'en', 'name': 'English'}]   \n",
       "4   76578911.0   106.0           [{'iso_639_1': 'en', 'name': 'English'}]   \n",
       "\n",
       "     status                                            tagline  \\\n",
       "0  Released                                                NaN   \n",
       "1  Released          Roll the dice and unleash the excitement!   \n",
       "2  Released  Still Yelling. Still Fighting. Still Ready for...   \n",
       "3  Released  Friends are the people who let you be yourself...   \n",
       "4  Released  Just When His World Is Back To Normal... He's ...   \n",
       "\n",
       "                         title  video vote_average vote_count  \n",
       "0                    Toy Story  False          7.7     5415.0  \n",
       "1                      Jumanji  False          6.9     2413.0  \n",
       "2             Grumpier Old Men  False          6.5       92.0  \n",
       "3            Waiting to Exhale  False          6.1       34.0  \n",
       "4  Father of the Bride Part II  False          5.7      173.0  \n",
       "\n",
       "[5 rows x 24 columns]"
      ]
     },
     "execution_count": 5,
     "metadata": {},
     "output_type": "execute_result"
    }
   ],
   "source": [
    "mov = pd.read_csv('movies_dataset.csv')\n",
    "mov.head()"
   ]
  },
  {
   "attachments": {},
   "cell_type": "markdown",
   "metadata": {},
   "source": [
    "Reviso el Dataset:"
   ]
  },
  {
   "cell_type": "code",
   "execution_count": 6,
   "metadata": {},
   "outputs": [
    {
     "name": "stdout",
     "output_type": "stream",
     "text": [
      "<class 'pandas.core.frame.DataFrame'>\n",
      "RangeIndex: 45466 entries, 0 to 45465\n",
      "Data columns (total 24 columns):\n",
      " #   Column                 Non-Null Count  Dtype  \n",
      "---  ------                 --------------  -----  \n",
      " 0   adult                  45466 non-null  object \n",
      " 1   belongs_to_collection  4494 non-null   object \n",
      " 2   budget                 45466 non-null  object \n",
      " 3   genres                 45466 non-null  object \n",
      " 4   homepage               7782 non-null   object \n",
      " 5   id                     45466 non-null  object \n",
      " 6   imdb_id                45449 non-null  object \n",
      " 7   original_language      45455 non-null  object \n",
      " 8   original_title         45466 non-null  object \n",
      " 9   overview               44512 non-null  object \n",
      " 10  popularity             45461 non-null  object \n",
      " 11  poster_path            45080 non-null  object \n",
      " 12  production_companies   45463 non-null  object \n",
      " 13  production_countries   45463 non-null  object \n",
      " 14  release_date           45379 non-null  object \n",
      " 15  revenue                45460 non-null  float64\n",
      " 16  runtime                45203 non-null  float64\n",
      " 17  spoken_languages       45460 non-null  object \n",
      " 18  status                 45379 non-null  object \n",
      " 19  tagline                20412 non-null  object \n",
      " 20  title                  45460 non-null  object \n",
      " 21  video                  45460 non-null  object \n",
      " 22  vote_average           45460 non-null  float64\n",
      " 23  vote_count             45460 non-null  float64\n",
      "dtypes: float64(4), object(20)\n",
      "memory usage: 8.3+ MB\n"
     ]
    }
   ],
   "source": [
    "mov.info()"
   ]
  },
  {
   "cell_type": "code",
   "execution_count": 7,
   "metadata": {},
   "outputs": [
    {
     "data": {
      "text/plain": [
       "(45466, 24)"
      ]
     },
     "execution_count": 7,
     "metadata": {},
     "output_type": "execute_result"
    }
   ],
   "source": [
    "mov.shape"
   ]
  },
  {
   "attachments": {},
   "cell_type": "markdown",
   "metadata": {},
   "source": [
    "Veo Las Columnas Anidadas:"
   ]
  },
  {
   "cell_type": "code",
   "execution_count": 8,
   "metadata": {},
   "outputs": [
    {
     "data": {
      "text/plain": [
       "0        {'id': 10194, 'name': 'Toy Story Collection', ...\n",
       "1                                                      NaN\n",
       "2        {'id': 119050, 'name': 'Grumpy Old Men Collect...\n",
       "3                                                      NaN\n",
       "4        {'id': 96871, 'name': 'Father of the Bride Col...\n",
       "                               ...                        \n",
       "45461                                                  NaN\n",
       "45462                                                  NaN\n",
       "45463                                                  NaN\n",
       "45464                                                  NaN\n",
       "45465                                                  NaN\n",
       "Name: belongs_to_collection, Length: 45466, dtype: object"
      ]
     },
     "execution_count": 8,
     "metadata": {},
     "output_type": "execute_result"
    }
   ],
   "source": [
    "mov['belongs_to_collection']"
   ]
  },
  {
   "cell_type": "code",
   "execution_count": 9,
   "metadata": {},
   "outputs": [
    {
     "data": {
      "text/plain": [
       "0        [{'id': 16, 'name': 'Animation'}, {'id': 35, '...\n",
       "1        [{'id': 12, 'name': 'Adventure'}, {'id': 14, '...\n",
       "2        [{'id': 10749, 'name': 'Romance'}, {'id': 35, ...\n",
       "3        [{'id': 35, 'name': 'Comedy'}, {'id': 18, 'nam...\n",
       "4                           [{'id': 35, 'name': 'Comedy'}]\n",
       "                               ...                        \n",
       "45461    [{'id': 18, 'name': 'Drama'}, {'id': 10751, 'n...\n",
       "45462                        [{'id': 18, 'name': 'Drama'}]\n",
       "45463    [{'id': 28, 'name': 'Action'}, {'id': 18, 'nam...\n",
       "45464                                                   []\n",
       "45465                                                   []\n",
       "Name: genres, Length: 45466, dtype: object"
      ]
     },
     "execution_count": 9,
     "metadata": {},
     "output_type": "execute_result"
    }
   ],
   "source": [
    "mov['genres']"
   ]
  },
  {
   "cell_type": "code",
   "execution_count": 10,
   "metadata": {},
   "outputs": [
    {
     "data": {
      "text/plain": [
       "0                 [{'iso_639_1': 'en', 'name': 'English'}]\n",
       "1        [{'iso_639_1': 'en', 'name': 'English'}, {'iso...\n",
       "2                 [{'iso_639_1': 'en', 'name': 'English'}]\n",
       "3                 [{'iso_639_1': 'en', 'name': 'English'}]\n",
       "4                 [{'iso_639_1': 'en', 'name': 'English'}]\n",
       "                               ...                        \n",
       "45461               [{'iso_639_1': 'fa', 'name': 'فارسی'}]\n",
       "45462                    [{'iso_639_1': 'tl', 'name': ''}]\n",
       "45463             [{'iso_639_1': 'en', 'name': 'English'}]\n",
       "45464                                                   []\n",
       "45465             [{'iso_639_1': 'en', 'name': 'English'}]\n",
       "Name: spoken_languages, Length: 45466, dtype: object"
      ]
     },
     "execution_count": 10,
     "metadata": {},
     "output_type": "execute_result"
    }
   ],
   "source": [
    "mov['spoken_languages']"
   ]
  },
  {
   "attachments": {},
   "cell_type": "markdown",
   "metadata": {},
   "source": [
    "Desanidar Columnas:"
   ]
  },
  {
   "attachments": {},
   "cell_type": "markdown",
   "metadata": {},
   "source": [
    "Función Para Extraer y Concatenar 'name'."
   ]
  },
  {
   "cell_type": "code",
   "execution_count": 11,
   "metadata": {},
   "outputs": [],
   "source": [
    "\n",
    "def extract_concatenate_name(value):\n",
    "    try:\n",
    "        pattern = r\"'name':\\s+'(.*?)'\"\n",
    "        match = re.findall(pattern, value)\n",
    "        return ', '.join(match)\n",
    "    except (TypeError, AttributeError):\n",
    "        return ''"
   ]
  },
  {
   "attachments": {},
   "cell_type": "markdown",
   "metadata": {},
   "source": [
    "Normalizamos la Columna \"belongs_to_collection\":"
   ]
  },
  {
   "cell_type": "code",
   "execution_count": 12,
   "metadata": {},
   "outputs": [],
   "source": [
    "mov['Franquicia'] = mov['belongs_to_collection'].apply(extract_concatenate_name)"
   ]
  },
  {
   "attachments": {},
   "cell_type": "markdown",
   "metadata": {},
   "source": [
    "Muestro el Resultado"
   ]
  },
  {
   "cell_type": "code",
   "execution_count": 13,
   "metadata": {},
   "outputs": [
    {
     "data": {
      "text/plain": [
       "0         Toy Story Collection\n",
       "1                             \n",
       "2    Grumpy Old Men Collection\n",
       "Name: Franquicia, dtype: object"
      ]
     },
     "execution_count": 13,
     "metadata": {},
     "output_type": "execute_result"
    }
   ],
   "source": [
    "mov['Franquicia'].head(3)"
   ]
  },
  {
   "attachments": {},
   "cell_type": "markdown",
   "metadata": {},
   "source": [
    "Normalizamos La Columna \"genres\":"
   ]
  },
  {
   "cell_type": "code",
   "execution_count": 14,
   "metadata": {},
   "outputs": [],
   "source": [
    "mov['Genre'] = mov['genres'].apply(extract_concatenate_name)"
   ]
  },
  {
   "attachments": {},
   "cell_type": "markdown",
   "metadata": {},
   "source": [
    "Muestro El Resultado:"
   ]
  },
  {
   "cell_type": "code",
   "execution_count": 15,
   "metadata": {},
   "outputs": [
    {
     "data": {
      "text/plain": [
       "0           Animation, Comedy, Family\n",
       "1          Adventure, Fantasy, Family\n",
       "2                     Romance, Comedy\n",
       "3              Comedy, Drama, Romance\n",
       "4                              Comedy\n",
       "5      Action, Crime, Drama, Thriller\n",
       "6                     Comedy, Romance\n",
       "7    Action, Adventure, Drama, Family\n",
       "8         Action, Adventure, Thriller\n",
       "9         Adventure, Action, Thriller\n",
       "Name: Genre, dtype: object"
      ]
     },
     "execution_count": 15,
     "metadata": {},
     "output_type": "execute_result"
    }
   ],
   "source": [
    "mov['Genre'].head(10)"
   ]
  },
  {
   "attachments": {},
   "cell_type": "markdown",
   "metadata": {},
   "source": [
    "Normalizamos la Columna \"production_companies\""
   ]
  },
  {
   "cell_type": "code",
   "execution_count": 16,
   "metadata": {},
   "outputs": [],
   "source": [
    "mov['Company'] = mov['production_companies'].apply(extract_concatenate_name)"
   ]
  },
  {
   "cell_type": "code",
   "execution_count": 17,
   "metadata": {},
   "outputs": [
    {
     "data": {
      "text/plain": [
       "0                              Pixar Animation Studios\n",
       "1    TriStar Pictures, Teitler Film, Interscope Com...\n",
       "2                         Warner Bros., Lancaster Gate\n",
       "Name: Company, dtype: object"
      ]
     },
     "execution_count": 17,
     "metadata": {},
     "output_type": "execute_result"
    }
   ],
   "source": [
    "mov['Company'].head(3)"
   ]
  },
  {
   "attachments": {},
   "cell_type": "markdown",
   "metadata": {},
   "source": [
    "Normalizamos la Columna \"production_countries\":"
   ]
  },
  {
   "cell_type": "code",
   "execution_count": 18,
   "metadata": {},
   "outputs": [],
   "source": [
    "mov['Country'] = mov['production_countries'].apply(extract_concatenate_name)"
   ]
  },
  {
   "attachments": {},
   "cell_type": "markdown",
   "metadata": {},
   "source": [
    "Muestro el Resultado:"
   ]
  },
  {
   "cell_type": "code",
   "execution_count": 19,
   "metadata": {},
   "outputs": [
    {
     "data": {
      "text/plain": [
       "0    United States of America\n",
       "1    United States of America\n",
       "2    United States of America\n",
       "Name: Country, dtype: object"
      ]
     },
     "execution_count": 19,
     "metadata": {},
     "output_type": "execute_result"
    }
   ],
   "source": [
    "mov['Country'].head(3)"
   ]
  },
  {
   "attachments": {},
   "cell_type": "markdown",
   "metadata": {},
   "source": [
    "Normalizamos la columna \"spoken_languages\":"
   ]
  },
  {
   "cell_type": "code",
   "execution_count": 20,
   "metadata": {},
   "outputs": [],
   "source": [
    "mov['Spoken_Language'] = mov['spoken_languages'].apply(extract_concatenate_name)\n"
   ]
  },
  {
   "attachments": {},
   "cell_type": "markdown",
   "metadata": {},
   "source": [
    "Muestro el Resultado:"
   ]
  },
  {
   "cell_type": "code",
   "execution_count": 21,
   "metadata": {},
   "outputs": [
    {
     "data": {
      "text/plain": [
       "0              English\n",
       "1    English, Français\n",
       "2              English\n",
       "Name: Spoken_Language, dtype: object"
      ]
     },
     "execution_count": 21,
     "metadata": {},
     "output_type": "execute_result"
    }
   ],
   "source": [
    "mov['Spoken_Language'].head(3)"
   ]
  },
  {
   "attachments": {},
   "cell_type": "markdown",
   "metadata": {},
   "source": [
    "Visualizo como me quedo despues de Nomalizar:"
   ]
  },
  {
   "cell_type": "code",
   "execution_count": 22,
   "metadata": {},
   "outputs": [
    {
     "data": {
      "text/html": [
       "<div>\n",
       "<style scoped>\n",
       "    .dataframe tbody tr th:only-of-type {\n",
       "        vertical-align: middle;\n",
       "    }\n",
       "\n",
       "    .dataframe tbody tr th {\n",
       "        vertical-align: top;\n",
       "    }\n",
       "\n",
       "    .dataframe thead th {\n",
       "        text-align: right;\n",
       "    }\n",
       "</style>\n",
       "<table border=\"1\" class=\"dataframe\">\n",
       "  <thead>\n",
       "    <tr style=\"text-align: right;\">\n",
       "      <th></th>\n",
       "      <th>adult</th>\n",
       "      <th>belongs_to_collection</th>\n",
       "      <th>budget</th>\n",
       "      <th>genres</th>\n",
       "      <th>homepage</th>\n",
       "      <th>id</th>\n",
       "      <th>imdb_id</th>\n",
       "      <th>original_language</th>\n",
       "      <th>original_title</th>\n",
       "      <th>overview</th>\n",
       "      <th>...</th>\n",
       "      <th>tagline</th>\n",
       "      <th>title</th>\n",
       "      <th>video</th>\n",
       "      <th>vote_average</th>\n",
       "      <th>vote_count</th>\n",
       "      <th>Franquicia</th>\n",
       "      <th>Genre</th>\n",
       "      <th>Company</th>\n",
       "      <th>Country</th>\n",
       "      <th>Spoken_Language</th>\n",
       "    </tr>\n",
       "  </thead>\n",
       "  <tbody>\n",
       "  </tbody>\n",
       "</table>\n",
       "<p>0 rows × 29 columns</p>\n",
       "</div>"
      ],
      "text/plain": [
       "Empty DataFrame\n",
       "Columns: [adult, belongs_to_collection, budget, genres, homepage, id, imdb_id, original_language, original_title, overview, popularity, poster_path, production_companies, production_countries, release_date, revenue, runtime, spoken_languages, status, tagline, title, video, vote_average, vote_count, Franquicia, Genre, Company, Country, Spoken_Language]\n",
       "Index: []\n",
       "\n",
       "[0 rows x 29 columns]"
      ]
     },
     "execution_count": 22,
     "metadata": {},
     "output_type": "execute_result"
    }
   ],
   "source": [
    "mov.head(0)\n"
   ]
  },
  {
   "attachments": {},
   "cell_type": "markdown",
   "metadata": {},
   "source": [
    "-Reemplazamos con 0 los registros con valores NULL de las columnas \"budget\" y \"revenue\"."
   ]
  },
  {
   "cell_type": "code",
   "execution_count": 23,
   "metadata": {},
   "outputs": [
    {
     "name": "stdout",
     "output_type": "stream",
     "text": [
      "# de valores NULL en el campo budget: 0\n"
     ]
    }
   ],
   "source": [
    "mov['budget'].fillna(0, inplace=True)\n",
    "print('# de valores NULL en el campo budget:', mov.budget.isna().sum())"
   ]
  },
  {
   "cell_type": "code",
   "execution_count": 24,
   "metadata": {},
   "outputs": [
    {
     "name": "stdout",
     "output_type": "stream",
     "text": [
      "# de valores NULL en el campo revenue: 0\n"
     ]
    }
   ],
   "source": [
    "mov['revenue'].fillna(0, inplace=True)\n",
    "print('# de valores NULL en el campo revenue:', mov.revenue.isna().sum())"
   ]
  },
  {
   "attachments": {},
   "cell_type": "markdown",
   "metadata": {},
   "source": [
    "- Eliminamos los registros con valores NULL de la columna \"release_date\"."
   ]
  },
  {
   "attachments": {},
   "cell_type": "markdown",
   "metadata": {},
   "source": [
    "Damos formato a todos los valores de la columna 'release_date' a los que no se les puede dar formato se les asigna NaT (Not a Time)"
   ]
  },
  {
   "cell_type": "code",
   "execution_count": 25,
   "metadata": {},
   "outputs": [],
   "source": [
    "mov['release_date'] = pd.to_datetime(mov['release_date'], errors='coerce')"
   ]
  },
  {
   "attachments": {},
   "cell_type": "markdown",
   "metadata": {},
   "source": [
    "Eliminamos los registros NaT: "
   ]
  },
  {
   "cell_type": "code",
   "execution_count": 26,
   "metadata": {},
   "outputs": [],
   "source": [
    "mov.dropna(subset = ['release_date'], inplace=True)"
   ]
  },
  {
   "attachments": {},
   "cell_type": "markdown",
   "metadata": {},
   "source": [
    "Verificamor que no existan NaT:"
   ]
  },
  {
   "cell_type": "code",
   "execution_count": 27,
   "metadata": {},
   "outputs": [
    {
     "data": {
      "text/plain": [
       "0"
      ]
     },
     "execution_count": 27,
     "metadata": {},
     "output_type": "execute_result"
    }
   ],
   "source": [
    "mov['release_date'].isnull().sum()"
   ]
  },
  {
   "attachments": {},
   "cell_type": "markdown",
   "metadata": {},
   "source": [
    "-Damos formato AAAA-mm-dd a la columna 'release_date', además creamos la columna 'release_year' donde extraemos el año de la columna 'release_date'."
   ]
  },
  {
   "attachments": {},
   "cell_type": "markdown",
   "metadata": {},
   "source": [
    "Verifico que todos los registros tengan el mismo formato AAAA-MM-DD"
   ]
  },
  {
   "cell_type": "code",
   "execution_count": 28,
   "metadata": {},
   "outputs": [],
   "source": [
    "mov['release_date'] = pd.to_datetime(mov['release_date']).dt.strftime('%Y-%m-%d')"
   ]
  },
  {
   "attachments": {},
   "cell_type": "markdown",
   "metadata": {},
   "source": [
    "-Creo la columna 'release_year' que va a contener el año de la columna 'release_date' "
   ]
  },
  {
   "cell_type": "code",
   "execution_count": 29,
   "metadata": {},
   "outputs": [],
   "source": [
    "mov['release_year'] = pd.to_datetime(mov['release_date']).dt.year"
   ]
  },
  {
   "attachments": {},
   "cell_type": "markdown",
   "metadata": {},
   "source": [
    "#Verifico las columnas 'release_date','release_year'"
   ]
  },
  {
   "cell_type": "code",
   "execution_count": 30,
   "metadata": {},
   "outputs": [
    {
     "data": {
      "text/html": [
       "<div>\n",
       "<style scoped>\n",
       "    .dataframe tbody tr th:only-of-type {\n",
       "        vertical-align: middle;\n",
       "    }\n",
       "\n",
       "    .dataframe tbody tr th {\n",
       "        vertical-align: top;\n",
       "    }\n",
       "\n",
       "    .dataframe thead th {\n",
       "        text-align: right;\n",
       "    }\n",
       "</style>\n",
       "<table border=\"1\" class=\"dataframe\">\n",
       "  <thead>\n",
       "    <tr style=\"text-align: right;\">\n",
       "      <th></th>\n",
       "      <th>release_date</th>\n",
       "      <th>release_year</th>\n",
       "    </tr>\n",
       "  </thead>\n",
       "  <tbody>\n",
       "    <tr>\n",
       "      <th>45460</th>\n",
       "      <td>1991-05-13</td>\n",
       "      <td>1991</td>\n",
       "    </tr>\n",
       "    <tr>\n",
       "      <th>45462</th>\n",
       "      <td>2011-11-17</td>\n",
       "      <td>2011</td>\n",
       "    </tr>\n",
       "    <tr>\n",
       "      <th>45463</th>\n",
       "      <td>2003-08-01</td>\n",
       "      <td>2003</td>\n",
       "    </tr>\n",
       "    <tr>\n",
       "      <th>45464</th>\n",
       "      <td>1917-10-21</td>\n",
       "      <td>1917</td>\n",
       "    </tr>\n",
       "    <tr>\n",
       "      <th>45465</th>\n",
       "      <td>2017-06-09</td>\n",
       "      <td>2017</td>\n",
       "    </tr>\n",
       "  </tbody>\n",
       "</table>\n",
       "</div>"
      ],
      "text/plain": [
       "      release_date  release_year\n",
       "45460   1991-05-13          1991\n",
       "45462   2011-11-17          2011\n",
       "45463   2003-08-01          2003\n",
       "45464   1917-10-21          1917\n",
       "45465   2017-06-09          2017"
      ]
     },
     "execution_count": 30,
     "metadata": {},
     "output_type": "execute_result"
    }
   ],
   "source": [
    "mov[['release_date','release_year']].tail()"
   ]
  },
  {
   "attachments": {},
   "cell_type": "markdown",
   "metadata": {},
   "source": [
    "Creo la columna 'return' que contendra el calculo del retorno de la inversion de la pelicula, el cual es el producto de la division entre las columnas 'revenue' y 'budget'."
   ]
  },
  {
   "attachments": {},
   "cell_type": "markdown",
   "metadata": {},
   "source": [
    "Doy un formato a los registros de las columnas 'budget' y 'revenue' a tipo numerico a los que no se les puede dar formato se les asigna el valor NaN (Not a Number)."
   ]
  },
  {
   "cell_type": "code",
   "execution_count": 31,
   "metadata": {},
   "outputs": [],
   "source": [
    "\n",
    "mov['budget'] = pd.to_numeric(mov['budget'], errors='coerce')\n",
    "mov['revenue'] = pd.to_numeric(mov['revenue'], errors='coerce')"
   ]
  },
  {
   "attachments": {},
   "cell_type": "markdown",
   "metadata": {},
   "source": [
    "Realizamos el calculo del retorno de inversión 'return':"
   ]
  },
  {
   "cell_type": "code",
   "execution_count": 32,
   "metadata": {},
   "outputs": [],
   "source": [
    "mov['return'] = mov['revenue']/mov['budget']\n",
    "mov['return'].fillna(0, inplace=True)"
   ]
  },
  {
   "attachments": {},
   "cell_type": "markdown",
   "metadata": {},
   "source": [
    "Elimino las columnas innecesarias: 'video', 'imdb_id', 'adult', 'original_title', 'vote_count', 'poster_path' y 'homepage'."
   ]
  },
  {
   "cell_type": "code",
   "execution_count": 33,
   "metadata": {},
   "outputs": [],
   "source": [
    "mov.drop(columns=['video', 'imdb_id', 'adult', 'original_title', 'vote_count', 'poster_path', 'homepage'], inplace = True)"
   ]
  },
  {
   "cell_type": "code",
   "execution_count": 34,
   "metadata": {},
   "outputs": [
    {
     "data": {
      "text/html": [
       "<div>\n",
       "<style scoped>\n",
       "    .dataframe tbody tr th:only-of-type {\n",
       "        vertical-align: middle;\n",
       "    }\n",
       "\n",
       "    .dataframe tbody tr th {\n",
       "        vertical-align: top;\n",
       "    }\n",
       "\n",
       "    .dataframe thead th {\n",
       "        text-align: right;\n",
       "    }\n",
       "</style>\n",
       "<table border=\"1\" class=\"dataframe\">\n",
       "  <thead>\n",
       "    <tr style=\"text-align: right;\">\n",
       "      <th></th>\n",
       "      <th>belongs_to_collection</th>\n",
       "      <th>budget</th>\n",
       "      <th>genres</th>\n",
       "      <th>id</th>\n",
       "      <th>original_language</th>\n",
       "      <th>overview</th>\n",
       "      <th>popularity</th>\n",
       "      <th>production_companies</th>\n",
       "      <th>production_countries</th>\n",
       "      <th>release_date</th>\n",
       "      <th>...</th>\n",
       "      <th>tagline</th>\n",
       "      <th>title</th>\n",
       "      <th>vote_average</th>\n",
       "      <th>Franquicia</th>\n",
       "      <th>Genre</th>\n",
       "      <th>Company</th>\n",
       "      <th>Country</th>\n",
       "      <th>Spoken_Language</th>\n",
       "      <th>release_year</th>\n",
       "      <th>return</th>\n",
       "    </tr>\n",
       "  </thead>\n",
       "  <tbody>\n",
       "  </tbody>\n",
       "</table>\n",
       "<p>0 rows × 24 columns</p>\n",
       "</div>"
      ],
      "text/plain": [
       "Empty DataFrame\n",
       "Columns: [belongs_to_collection, budget, genres, id, original_language, overview, popularity, production_companies, production_countries, release_date, revenue, runtime, spoken_languages, status, tagline, title, vote_average, Franquicia, Genre, Company, Country, Spoken_Language, release_year, return]\n",
       "Index: []\n",
       "\n",
       "[0 rows x 24 columns]"
      ]
     },
     "execution_count": 34,
     "metadata": {},
     "output_type": "execute_result"
    }
   ],
   "source": [
    "mov.head(0)"
   ]
  },
  {
   "cell_type": "code",
   "execution_count": 35,
   "metadata": {},
   "outputs": [],
   "source": [
    "mov = mov[['id', 'title', 'tagline', 'overview', 'runtime',\n",
    "                        'original_language', 'Genre', 'Franquicia',\n",
    "                        'status', 'release_date', 'release_year',\n",
    "                        'popularity','vote_average',\n",
    "                        'Company', 'Country', 'Spoken_Language',\n",
    "                        'revenue', 'budget', 'return']]"
   ]
  },
  {
   "cell_type": "code",
   "execution_count": 36,
   "metadata": {},
   "outputs": [
    {
     "data": {
      "text/html": [
       "<div>\n",
       "<style scoped>\n",
       "    .dataframe tbody tr th:only-of-type {\n",
       "        vertical-align: middle;\n",
       "    }\n",
       "\n",
       "    .dataframe tbody tr th {\n",
       "        vertical-align: top;\n",
       "    }\n",
       "\n",
       "    .dataframe thead th {\n",
       "        text-align: right;\n",
       "    }\n",
       "</style>\n",
       "<table border=\"1\" class=\"dataframe\">\n",
       "  <thead>\n",
       "    <tr style=\"text-align: right;\">\n",
       "      <th></th>\n",
       "      <th>id</th>\n",
       "      <th>title</th>\n",
       "      <th>tagline</th>\n",
       "      <th>overview</th>\n",
       "      <th>runtime</th>\n",
       "      <th>original_language</th>\n",
       "      <th>Genre</th>\n",
       "      <th>Franquicia</th>\n",
       "      <th>status</th>\n",
       "      <th>release_date</th>\n",
       "      <th>release_year</th>\n",
       "      <th>popularity</th>\n",
       "      <th>vote_average</th>\n",
       "      <th>Company</th>\n",
       "      <th>Country</th>\n",
       "      <th>Spoken_Language</th>\n",
       "      <th>revenue</th>\n",
       "      <th>budget</th>\n",
       "      <th>return</th>\n",
       "    </tr>\n",
       "  </thead>\n",
       "  <tbody>\n",
       "  </tbody>\n",
       "</table>\n",
       "</div>"
      ],
      "text/plain": [
       "Empty DataFrame\n",
       "Columns: [id, title, tagline, overview, runtime, original_language, Genre, Franquicia, status, release_date, release_year, popularity, vote_average, Company, Country, Spoken_Language, revenue, budget, return]\n",
       "Index: []"
      ]
     },
     "execution_count": 36,
     "metadata": {},
     "output_type": "execute_result"
    }
   ],
   "source": [
    "mov.head(0)"
   ]
  },
  {
   "cell_type": "code",
   "execution_count": 37,
   "metadata": {},
   "outputs": [],
   "source": [
    "# Cambiar el nombre de las columnas\n",
    " #nuevos_nombres ={'id':'ID','title':' Title','tagline':' Tagline', 'overview':'Overview', 'runtime': 'Runtime', 'original_language':'Original_Language', 'genre':'Genre',\n",
    "                 # 'Franquicia':'Franquicia','status':'Status','release_date':'Release_Date','release_year':'Release_Year','popularity':'Popularity','vote_average':'Vote_Average',\n",
    "                 # 'Company':'Company','Country':'Country','Spoken_Language':'Spoken_Language', 'revenue':'Revenue','budget':'Budget','return':'Return'}\n",
    "\n",
    "\n"
   ]
  },
  {
   "cell_type": "code",
   "execution_count": 38,
   "metadata": {},
   "outputs": [],
   "source": [
    "#mov = mov.rename(columns=nuevos_nombres)"
   ]
  },
  {
   "cell_type": "code",
   "execution_count": 39,
   "metadata": {},
   "outputs": [],
   "source": [
    "movie_info = mov.to_csv('movie_info.csv', index=False, header=True, sep=';')"
   ]
  },
  {
   "attachments": {},
   "cell_type": "markdown",
   "metadata": {},
   "source": [
    "CREDITS.CSV"
   ]
  },
  {
   "attachments": {},
   "cell_type": "markdown",
   "metadata": {},
   "source": [
    "Levanto el csv de credits:"
   ]
  },
  {
   "cell_type": "code",
   "execution_count": 40,
   "metadata": {},
   "outputs": [],
   "source": [
    "mov1 = pd.read_csv('credits.csv')"
   ]
  },
  {
   "attachments": {},
   "cell_type": "markdown",
   "metadata": {},
   "source": [
    "Lo Muestro:"
   ]
  },
  {
   "cell_type": "code",
   "execution_count": 41,
   "metadata": {},
   "outputs": [
    {
     "data": {
      "text/html": [
       "<div>\n",
       "<style scoped>\n",
       "    .dataframe tbody tr th:only-of-type {\n",
       "        vertical-align: middle;\n",
       "    }\n",
       "\n",
       "    .dataframe tbody tr th {\n",
       "        vertical-align: top;\n",
       "    }\n",
       "\n",
       "    .dataframe thead th {\n",
       "        text-align: right;\n",
       "    }\n",
       "</style>\n",
       "<table border=\"1\" class=\"dataframe\">\n",
       "  <thead>\n",
       "    <tr style=\"text-align: right;\">\n",
       "      <th></th>\n",
       "      <th>cast</th>\n",
       "      <th>crew</th>\n",
       "      <th>id</th>\n",
       "    </tr>\n",
       "  </thead>\n",
       "  <tbody>\n",
       "    <tr>\n",
       "      <th>0</th>\n",
       "      <td>[{'cast_id': 14, 'character': 'Woody (voice)',...</td>\n",
       "      <td>[{'credit_id': '52fe4284c3a36847f8024f49', 'de...</td>\n",
       "      <td>862</td>\n",
       "    </tr>\n",
       "    <tr>\n",
       "      <th>1</th>\n",
       "      <td>[{'cast_id': 1, 'character': 'Alan Parrish', '...</td>\n",
       "      <td>[{'credit_id': '52fe44bfc3a36847f80a7cd1', 'de...</td>\n",
       "      <td>8844</td>\n",
       "    </tr>\n",
       "    <tr>\n",
       "      <th>2</th>\n",
       "      <td>[{'cast_id': 2, 'character': 'Max Goldman', 'c...</td>\n",
       "      <td>[{'credit_id': '52fe466a9251416c75077a89', 'de...</td>\n",
       "      <td>15602</td>\n",
       "    </tr>\n",
       "    <tr>\n",
       "      <th>3</th>\n",
       "      <td>[{'cast_id': 1, 'character': \"Savannah 'Vannah...</td>\n",
       "      <td>[{'credit_id': '52fe44779251416c91011acb', 'de...</td>\n",
       "      <td>31357</td>\n",
       "    </tr>\n",
       "    <tr>\n",
       "      <th>4</th>\n",
       "      <td>[{'cast_id': 1, 'character': 'George Banks', '...</td>\n",
       "      <td>[{'credit_id': '52fe44959251416c75039ed7', 'de...</td>\n",
       "      <td>11862</td>\n",
       "    </tr>\n",
       "  </tbody>\n",
       "</table>\n",
       "</div>"
      ],
      "text/plain": [
       "                                                cast  \\\n",
       "0  [{'cast_id': 14, 'character': 'Woody (voice)',...   \n",
       "1  [{'cast_id': 1, 'character': 'Alan Parrish', '...   \n",
       "2  [{'cast_id': 2, 'character': 'Max Goldman', 'c...   \n",
       "3  [{'cast_id': 1, 'character': \"Savannah 'Vannah...   \n",
       "4  [{'cast_id': 1, 'character': 'George Banks', '...   \n",
       "\n",
       "                                                crew     id  \n",
       "0  [{'credit_id': '52fe4284c3a36847f8024f49', 'de...    862  \n",
       "1  [{'credit_id': '52fe44bfc3a36847f80a7cd1', 'de...   8844  \n",
       "2  [{'credit_id': '52fe466a9251416c75077a89', 'de...  15602  \n",
       "3  [{'credit_id': '52fe44779251416c91011acb', 'de...  31357  \n",
       "4  [{'credit_id': '52fe44959251416c75039ed7', 'de...  11862  "
      ]
     },
     "execution_count": 41,
     "metadata": {},
     "output_type": "execute_result"
    }
   ],
   "source": [
    "mov1.head()"
   ]
  },
  {
   "attachments": {},
   "cell_type": "markdown",
   "metadata": {},
   "source": [
    "Voy a utilizar la misma funcion para desanidar la columna Crew que es donde esta la informacion que necesito para los endpoints:"
   ]
  },
  {
   "attachments": {},
   "cell_type": "markdown",
   "metadata": {},
   "source": [
    "Función para extraer y concatenar 'name'"
   ]
  },
  {
   "cell_type": "code",
   "execution_count": 42,
   "metadata": {},
   "outputs": [],
   "source": [
    "\n",
    "def extract_concatenate_name(value):\n",
    "    try:\n",
    "        pattern = r\"'name':\\s+'(.*?)'\"\n",
    "        match = re.findall(pattern, value)\n",
    "        return ', '.join(match)\n",
    "    except (TypeError, AttributeError):\n",
    "        return ''"
   ]
  },
  {
   "attachments": {},
   "cell_type": "markdown",
   "metadata": {},
   "source": [
    "Normalizamos la columna \"crew\":"
   ]
  },
  {
   "cell_type": "code",
   "execution_count": 43,
   "metadata": {},
   "outputs": [],
   "source": [
    "mov1['Director'] = mov1['crew'].apply(extract_concatenate_name)"
   ]
  },
  {
   "cell_type": "code",
   "execution_count": 44,
   "metadata": {},
   "outputs": [
    {
     "data": {
      "text/plain": [
       "0    John Lasseter, Joss Whedon, Andrew Stanton, Jo...\n",
       "1    Larry J. Franco, Jonathan Hensleigh, James Hor...\n",
       "2    Howard Deutch, Mark Steven Johnson, Mark Steve...\n",
       "3    Forest Whitaker, Ronald Bass, Ronald Bass, Ezr...\n",
       "4    Alan Silvestri, Elliot Davis, Nancy Meyers, Na...\n",
       "Name: Director, dtype: object"
      ]
     },
     "execution_count": 44,
     "metadata": {},
     "output_type": "execute_result"
    }
   ],
   "source": [
    "mov1['Director'].head(5)"
   ]
  },
  {
   "attachments": {},
   "cell_type": "markdown",
   "metadata": {},
   "source": [
    "#Borro las columnas CAST Y CREW"
   ]
  },
  {
   "cell_type": "code",
   "execution_count": 45,
   "metadata": {},
   "outputs": [],
   "source": [
    "mov1.drop(columns=['cast', 'crew', 'id'], inplace = True)"
   ]
  },
  {
   "attachments": {},
   "cell_type": "markdown",
   "metadata": {},
   "source": [
    "GUARDO EL CSV DE CREDITS"
   ]
  },
  {
   "cell_type": "code",
   "execution_count": 46,
   "metadata": {},
   "outputs": [],
   "source": [
    "movie_dir= mov1.to_csv('movie_dir.csv', index=False, header=True, sep=',')"
   ]
  },
  {
   "cell_type": "code",
   "execution_count": 47,
   "metadata": {},
   "outputs": [
    {
     "data": {
      "text/html": [
       "<div>\n",
       "<style scoped>\n",
       "    .dataframe tbody tr th:only-of-type {\n",
       "        vertical-align: middle;\n",
       "    }\n",
       "\n",
       "    .dataframe tbody tr th {\n",
       "        vertical-align: top;\n",
       "    }\n",
       "\n",
       "    .dataframe thead th {\n",
       "        text-align: right;\n",
       "    }\n",
       "</style>\n",
       "<table border=\"1\" class=\"dataframe\">\n",
       "  <thead>\n",
       "    <tr style=\"text-align: right;\">\n",
       "      <th></th>\n",
       "      <th>Director</th>\n",
       "    </tr>\n",
       "  </thead>\n",
       "  <tbody>\n",
       "    <tr>\n",
       "      <th>0</th>\n",
       "      <td>John Lasseter, Joss Whedon, Andrew Stanton, Jo...</td>\n",
       "    </tr>\n",
       "    <tr>\n",
       "      <th>1</th>\n",
       "      <td>Larry J. Franco, Jonathan Hensleigh, James Hor...</td>\n",
       "    </tr>\n",
       "    <tr>\n",
       "      <th>2</th>\n",
       "      <td>Howard Deutch, Mark Steven Johnson, Mark Steve...</td>\n",
       "    </tr>\n",
       "    <tr>\n",
       "      <th>3</th>\n",
       "      <td>Forest Whitaker, Ronald Bass, Ronald Bass, Ezr...</td>\n",
       "    </tr>\n",
       "    <tr>\n",
       "      <th>4</th>\n",
       "      <td>Alan Silvestri, Elliot Davis, Nancy Meyers, Na...</td>\n",
       "    </tr>\n",
       "  </tbody>\n",
       "</table>\n",
       "</div>"
      ],
      "text/plain": [
       "                                            Director\n",
       "0  John Lasseter, Joss Whedon, Andrew Stanton, Jo...\n",
       "1  Larry J. Franco, Jonathan Hensleigh, James Hor...\n",
       "2  Howard Deutch, Mark Steven Johnson, Mark Steve...\n",
       "3  Forest Whitaker, Ronald Bass, Ronald Bass, Ezr...\n",
       "4  Alan Silvestri, Elliot Davis, Nancy Meyers, Na..."
      ]
     },
     "execution_count": 47,
     "metadata": {},
     "output_type": "execute_result"
    }
   ],
   "source": [
    "mov2 = pd.read_csv('movie_dir.csv')\n",
    "mov2.head()"
   ]
  },
  {
   "cell_type": "code",
   "execution_count": 48,
   "metadata": {},
   "outputs": [
    {
     "ename": "SyntaxError",
     "evalue": "invalid syntax (3568213437.py, line 1)",
     "output_type": "error",
     "traceback": [
      "\u001b[1;36m  Cell \u001b[1;32mIn [48], line 1\u001b[1;36m\u001b[0m\n\u001b[1;33m    VOY A UNIR LOS DATAFRAME EN UNO\u001b[0m\n\u001b[1;37m        ^\u001b[0m\n\u001b[1;31mSyntaxError\u001b[0m\u001b[1;31m:\u001b[0m invalid syntax\n"
     ]
    }
   ],
   "source": [
    "VOY A UNIR LOS DATAFRAME EN UNO"
   ]
  },
  {
   "cell_type": "code",
   "execution_count": 49,
   "metadata": {},
   "outputs": [],
   "source": [
    "final = pd.concat([mov, mov1], axis=1)"
   ]
  },
  {
   "cell_type": "code",
   "execution_count": 50,
   "metadata": {},
   "outputs": [
    {
     "data": {
      "text/html": [
       "<div>\n",
       "<style scoped>\n",
       "    .dataframe tbody tr th:only-of-type {\n",
       "        vertical-align: middle;\n",
       "    }\n",
       "\n",
       "    .dataframe tbody tr th {\n",
       "        vertical-align: top;\n",
       "    }\n",
       "\n",
       "    .dataframe thead th {\n",
       "        text-align: right;\n",
       "    }\n",
       "</style>\n",
       "<table border=\"1\" class=\"dataframe\">\n",
       "  <thead>\n",
       "    <tr style=\"text-align: right;\">\n",
       "      <th></th>\n",
       "      <th>id</th>\n",
       "      <th>title</th>\n",
       "      <th>tagline</th>\n",
       "      <th>overview</th>\n",
       "      <th>runtime</th>\n",
       "      <th>original_language</th>\n",
       "      <th>Genre</th>\n",
       "      <th>Franquicia</th>\n",
       "      <th>status</th>\n",
       "      <th>release_date</th>\n",
       "      <th>release_year</th>\n",
       "      <th>popularity</th>\n",
       "      <th>vote_average</th>\n",
       "      <th>Company</th>\n",
       "      <th>Country</th>\n",
       "      <th>Spoken_Language</th>\n",
       "      <th>revenue</th>\n",
       "      <th>budget</th>\n",
       "      <th>return</th>\n",
       "      <th>Director</th>\n",
       "    </tr>\n",
       "  </thead>\n",
       "  <tbody>\n",
       "    <tr>\n",
       "      <th>0</th>\n",
       "      <td>862</td>\n",
       "      <td>Toy Story</td>\n",
       "      <td>NaN</td>\n",
       "      <td>Led by Woody, Andy's toys live happily in his ...</td>\n",
       "      <td>81.0</td>\n",
       "      <td>en</td>\n",
       "      <td>Animation, Comedy, Family</td>\n",
       "      <td>Toy Story Collection</td>\n",
       "      <td>Released</td>\n",
       "      <td>1995-10-30</td>\n",
       "      <td>1995.0</td>\n",
       "      <td>21.946943</td>\n",
       "      <td>7.7</td>\n",
       "      <td>Pixar Animation Studios</td>\n",
       "      <td>United States of America</td>\n",
       "      <td>English</td>\n",
       "      <td>373554033.0</td>\n",
       "      <td>30000000.0</td>\n",
       "      <td>12.451801</td>\n",
       "      <td>John Lasseter, Joss Whedon, Andrew Stanton, Jo...</td>\n",
       "    </tr>\n",
       "    <tr>\n",
       "      <th>1</th>\n",
       "      <td>8844</td>\n",
       "      <td>Jumanji</td>\n",
       "      <td>Roll the dice and unleash the excitement!</td>\n",
       "      <td>When siblings Judy and Peter discover an encha...</td>\n",
       "      <td>104.0</td>\n",
       "      <td>en</td>\n",
       "      <td>Adventure, Fantasy, Family</td>\n",
       "      <td></td>\n",
       "      <td>Released</td>\n",
       "      <td>1995-12-15</td>\n",
       "      <td>1995.0</td>\n",
       "      <td>17.015539</td>\n",
       "      <td>6.9</td>\n",
       "      <td>TriStar Pictures, Teitler Film, Interscope Com...</td>\n",
       "      <td>United States of America</td>\n",
       "      <td>English, Français</td>\n",
       "      <td>262797249.0</td>\n",
       "      <td>65000000.0</td>\n",
       "      <td>4.043035</td>\n",
       "      <td>Larry J. Franco, Jonathan Hensleigh, James Hor...</td>\n",
       "    </tr>\n",
       "    <tr>\n",
       "      <th>2</th>\n",
       "      <td>15602</td>\n",
       "      <td>Grumpier Old Men</td>\n",
       "      <td>Still Yelling. Still Fighting. Still Ready for...</td>\n",
       "      <td>A family wedding reignites the ancient feud be...</td>\n",
       "      <td>101.0</td>\n",
       "      <td>en</td>\n",
       "      <td>Romance, Comedy</td>\n",
       "      <td>Grumpy Old Men Collection</td>\n",
       "      <td>Released</td>\n",
       "      <td>1995-12-22</td>\n",
       "      <td>1995.0</td>\n",
       "      <td>11.7129</td>\n",
       "      <td>6.5</td>\n",
       "      <td>Warner Bros., Lancaster Gate</td>\n",
       "      <td>United States of America</td>\n",
       "      <td>English</td>\n",
       "      <td>0.0</td>\n",
       "      <td>0.0</td>\n",
       "      <td>0.000000</td>\n",
       "      <td>Howard Deutch, Mark Steven Johnson, Mark Steve...</td>\n",
       "    </tr>\n",
       "    <tr>\n",
       "      <th>3</th>\n",
       "      <td>31357</td>\n",
       "      <td>Waiting to Exhale</td>\n",
       "      <td>Friends are the people who let you be yourself...</td>\n",
       "      <td>Cheated on, mistreated and stepped on, the wom...</td>\n",
       "      <td>127.0</td>\n",
       "      <td>en</td>\n",
       "      <td>Comedy, Drama, Romance</td>\n",
       "      <td></td>\n",
       "      <td>Released</td>\n",
       "      <td>1995-12-22</td>\n",
       "      <td>1995.0</td>\n",
       "      <td>3.859495</td>\n",
       "      <td>6.1</td>\n",
       "      <td>Twentieth Century Fox Film Corporation</td>\n",
       "      <td>United States of America</td>\n",
       "      <td>English</td>\n",
       "      <td>81452156.0</td>\n",
       "      <td>16000000.0</td>\n",
       "      <td>5.090760</td>\n",
       "      <td>Forest Whitaker, Ronald Bass, Ronald Bass, Ezr...</td>\n",
       "    </tr>\n",
       "    <tr>\n",
       "      <th>4</th>\n",
       "      <td>11862</td>\n",
       "      <td>Father of the Bride Part II</td>\n",
       "      <td>Just When His World Is Back To Normal... He's ...</td>\n",
       "      <td>Just when George Banks has recovered from his ...</td>\n",
       "      <td>106.0</td>\n",
       "      <td>en</td>\n",
       "      <td>Comedy</td>\n",
       "      <td>Father of the Bride Collection</td>\n",
       "      <td>Released</td>\n",
       "      <td>1995-02-10</td>\n",
       "      <td>1995.0</td>\n",
       "      <td>8.387519</td>\n",
       "      <td>5.7</td>\n",
       "      <td>Sandollar Productions, Touchstone Pictures</td>\n",
       "      <td>United States of America</td>\n",
       "      <td>English</td>\n",
       "      <td>76578911.0</td>\n",
       "      <td>0.0</td>\n",
       "      <td>inf</td>\n",
       "      <td>Alan Silvestri, Elliot Davis, Nancy Meyers, Na...</td>\n",
       "    </tr>\n",
       "    <tr>\n",
       "      <th>5</th>\n",
       "      <td>949</td>\n",
       "      <td>Heat</td>\n",
       "      <td>A Los Angeles Crime Saga</td>\n",
       "      <td>Obsessive master thief, Neil McCauley leads a ...</td>\n",
       "      <td>170.0</td>\n",
       "      <td>en</td>\n",
       "      <td>Action, Crime, Drama, Thriller</td>\n",
       "      <td></td>\n",
       "      <td>Released</td>\n",
       "      <td>1995-12-15</td>\n",
       "      <td>1995.0</td>\n",
       "      <td>17.924927</td>\n",
       "      <td>7.7</td>\n",
       "      <td>Regency Enterprises, Forward Pass, Warner Bros.</td>\n",
       "      <td>United States of America</td>\n",
       "      <td>English, Español</td>\n",
       "      <td>187436818.0</td>\n",
       "      <td>60000000.0</td>\n",
       "      <td>3.123947</td>\n",
       "      <td>Michael Mann, Michael Mann, Art Linson, Michae...</td>\n",
       "    </tr>\n",
       "    <tr>\n",
       "      <th>6</th>\n",
       "      <td>11860</td>\n",
       "      <td>Sabrina</td>\n",
       "      <td>You are cordially invited to the most surprisi...</td>\n",
       "      <td>An ugly duckling having undergone a remarkable...</td>\n",
       "      <td>127.0</td>\n",
       "      <td>en</td>\n",
       "      <td>Comedy, Romance</td>\n",
       "      <td></td>\n",
       "      <td>Released</td>\n",
       "      <td>1995-12-15</td>\n",
       "      <td>1995.0</td>\n",
       "      <td>6.677277</td>\n",
       "      <td>6.2</td>\n",
       "      <td>Paramount Pictures, Scott Rudin Productions, M...</td>\n",
       "      <td>Germany, United States of America</td>\n",
       "      <td>Français, English</td>\n",
       "      <td>0.0</td>\n",
       "      <td>58000000.0</td>\n",
       "      <td>0.000000</td>\n",
       "      <td>Sydney Pollack, Barbara Benedek, Sydney Pollac...</td>\n",
       "    </tr>\n",
       "    <tr>\n",
       "      <th>7</th>\n",
       "      <td>45325</td>\n",
       "      <td>Tom and Huck</td>\n",
       "      <td>The Original Bad Boys.</td>\n",
       "      <td>A mischievous young boy, Tom Sawyer, witnesses...</td>\n",
       "      <td>97.0</td>\n",
       "      <td>en</td>\n",
       "      <td>Action, Adventure, Drama, Family</td>\n",
       "      <td></td>\n",
       "      <td>Released</td>\n",
       "      <td>1995-12-22</td>\n",
       "      <td>1995.0</td>\n",
       "      <td>2.561161</td>\n",
       "      <td>5.4</td>\n",
       "      <td>Walt Disney Pictures</td>\n",
       "      <td>United States of America</td>\n",
       "      <td>English, Deutsch</td>\n",
       "      <td>0.0</td>\n",
       "      <td>0.0</td>\n",
       "      <td>0.000000</td>\n",
       "      <td>David Loughery, Stephen Sommers, Peter Hewitt,...</td>\n",
       "    </tr>\n",
       "    <tr>\n",
       "      <th>8</th>\n",
       "      <td>9091</td>\n",
       "      <td>Sudden Death</td>\n",
       "      <td>Terror goes into overtime.</td>\n",
       "      <td>International action superstar Jean Claude Van...</td>\n",
       "      <td>106.0</td>\n",
       "      <td>en</td>\n",
       "      <td>Action, Adventure, Thriller</td>\n",
       "      <td></td>\n",
       "      <td>Released</td>\n",
       "      <td>1995-12-22</td>\n",
       "      <td>1995.0</td>\n",
       "      <td>5.23158</td>\n",
       "      <td>5.5</td>\n",
       "      <td>Universal Pictures, Imperial Entertainment, Si...</td>\n",
       "      <td>United States of America</td>\n",
       "      <td>English</td>\n",
       "      <td>64350171.0</td>\n",
       "      <td>35000000.0</td>\n",
       "      <td>1.838576</td>\n",
       "      <td>Peter Hyams, Karen Elise Baldwin, Gene Quintan...</td>\n",
       "    </tr>\n",
       "    <tr>\n",
       "      <th>9</th>\n",
       "      <td>710</td>\n",
       "      <td>GoldenEye</td>\n",
       "      <td>No limits. No fears. No substitutes.</td>\n",
       "      <td>James Bond must unmask the mysterious head of ...</td>\n",
       "      <td>130.0</td>\n",
       "      <td>en</td>\n",
       "      <td>Adventure, Action, Thriller</td>\n",
       "      <td>James Bond Collection</td>\n",
       "      <td>Released</td>\n",
       "      <td>1995-11-16</td>\n",
       "      <td>1995.0</td>\n",
       "      <td>14.686036</td>\n",
       "      <td>6.6</td>\n",
       "      <td>United Artists, Eon Productions</td>\n",
       "      <td>United Kingdom, United States of America</td>\n",
       "      <td>English, Pусский, Español</td>\n",
       "      <td>352194034.0</td>\n",
       "      <td>58000000.0</td>\n",
       "      <td>6.072311</td>\n",
       "      <td>Martin Campbell, Ian Fleming, Jeffrey Caine, B...</td>\n",
       "    </tr>\n",
       "    <tr>\n",
       "      <th>10</th>\n",
       "      <td>9087</td>\n",
       "      <td>The American President</td>\n",
       "      <td>Why can't the most powerful man in the world h...</td>\n",
       "      <td>Widowed U.S. president Andrew Shepherd, one of...</td>\n",
       "      <td>106.0</td>\n",
       "      <td>en</td>\n",
       "      <td>Comedy, Drama, Romance</td>\n",
       "      <td></td>\n",
       "      <td>Released</td>\n",
       "      <td>1995-11-17</td>\n",
       "      <td>1995.0</td>\n",
       "      <td>6.318445</td>\n",
       "      <td>6.5</td>\n",
       "      <td>Columbia Pictures, Castle Rock Entertainment</td>\n",
       "      <td>United States of America</td>\n",
       "      <td>English</td>\n",
       "      <td>107879496.0</td>\n",
       "      <td>62000000.0</td>\n",
       "      <td>1.739992</td>\n",
       "      <td>John Seale, Rob Reiner, Rob Reiner, Robert Lei...</td>\n",
       "    </tr>\n",
       "    <tr>\n",
       "      <th>11</th>\n",
       "      <td>12110</td>\n",
       "      <td>Dracula: Dead and Loving It</td>\n",
       "      <td>NaN</td>\n",
       "      <td>When a lawyer shows up at the vampire's doorst...</td>\n",
       "      <td>88.0</td>\n",
       "      <td>en</td>\n",
       "      <td>Comedy, Horror</td>\n",
       "      <td></td>\n",
       "      <td>Released</td>\n",
       "      <td>1995-12-22</td>\n",
       "      <td>1995.0</td>\n",
       "      <td>5.430331</td>\n",
       "      <td>5.7</td>\n",
       "      <td>Columbia Pictures, Castle Rock Entertainment, ...</td>\n",
       "      <td>France, United States of America</td>\n",
       "      <td>English, Deutsch</td>\n",
       "      <td>0.0</td>\n",
       "      <td>0.0</td>\n",
       "      <td>0.000000</td>\n",
       "      <td>Adam Weiss, Mel Brooks, Mel Brooks, Mel Brooks...</td>\n",
       "    </tr>\n",
       "    <tr>\n",
       "      <th>12</th>\n",
       "      <td>21032</td>\n",
       "      <td>Balto</td>\n",
       "      <td>Part Dog. Part Wolf. All Hero.</td>\n",
       "      <td>An outcast half-wolf risks his life to prevent...</td>\n",
       "      <td>78.0</td>\n",
       "      <td>en</td>\n",
       "      <td>Family, Animation, Adventure</td>\n",
       "      <td>Balto Collection</td>\n",
       "      <td>Released</td>\n",
       "      <td>1995-12-22</td>\n",
       "      <td>1995.0</td>\n",
       "      <td>12.140733</td>\n",
       "      <td>7.1</td>\n",
       "      <td>Universal Pictures, Amblin Entertainment, Ambl...</td>\n",
       "      <td>United States of America</td>\n",
       "      <td>English</td>\n",
       "      <td>11348324.0</td>\n",
       "      <td>0.0</td>\n",
       "      <td>inf</td>\n",
       "      <td>Steven Spielberg, Kathleen Kennedy, Roger S.H....</td>\n",
       "    </tr>\n",
       "    <tr>\n",
       "      <th>13</th>\n",
       "      <td>10858</td>\n",
       "      <td>Nixon</td>\n",
       "      <td>Triumphant in Victory, Bitter in Defeat. He Ch...</td>\n",
       "      <td>An all-star cast powers this epic look at Amer...</td>\n",
       "      <td>192.0</td>\n",
       "      <td>en</td>\n",
       "      <td>History, Drama</td>\n",
       "      <td></td>\n",
       "      <td>Released</td>\n",
       "      <td>1995-12-22</td>\n",
       "      <td>1995.0</td>\n",
       "      <td>5.092</td>\n",
       "      <td>7.1</td>\n",
       "      <td>Hollywood Pictures, Cinergi Pictures Entertain...</td>\n",
       "      <td>United States of America</td>\n",
       "      <td>English</td>\n",
       "      <td>13681765.0</td>\n",
       "      <td>44000000.0</td>\n",
       "      <td>0.310949</td>\n",
       "      <td>Oliver Stone, Oliver Stone, Dan Halsted, John ...</td>\n",
       "    </tr>\n",
       "    <tr>\n",
       "      <th>14</th>\n",
       "      <td>1408</td>\n",
       "      <td>Cutthroat Island</td>\n",
       "      <td>The Course Has Been Set. There Is No Turning B...</td>\n",
       "      <td>Morgan Adams and her slave, William Shaw, are ...</td>\n",
       "      <td>119.0</td>\n",
       "      <td>en</td>\n",
       "      <td>Action, Adventure</td>\n",
       "      <td></td>\n",
       "      <td>Released</td>\n",
       "      <td>1995-12-22</td>\n",
       "      <td>1995.0</td>\n",
       "      <td>7.284477</td>\n",
       "      <td>5.7</td>\n",
       "      <td>Le Studio Canal+, Laurence Mark Productions, M...</td>\n",
       "      <td>France, Germany, Italy, United States of America</td>\n",
       "      <td>English, Latin</td>\n",
       "      <td>10017322.0</td>\n",
       "      <td>98000000.0</td>\n",
       "      <td>0.102218</td>\n",
       "      <td>Peter Levy, Maggie Gray, Norman Garwood, Mario...</td>\n",
       "    </tr>\n",
       "    <tr>\n",
       "      <th>15</th>\n",
       "      <td>524</td>\n",
       "      <td>Casino</td>\n",
       "      <td>No one stays at the top forever.</td>\n",
       "      <td>The life of the gambling paradise – Las Vegas ...</td>\n",
       "      <td>178.0</td>\n",
       "      <td>en</td>\n",
       "      <td>Drama, Crime</td>\n",
       "      <td></td>\n",
       "      <td>Released</td>\n",
       "      <td>1995-11-22</td>\n",
       "      <td>1995.0</td>\n",
       "      <td>10.137389</td>\n",
       "      <td>7.8</td>\n",
       "      <td>Universal Pictures, Légende Entreprises, Syali...</td>\n",
       "      <td>France, United States of America</td>\n",
       "      <td>English</td>\n",
       "      <td>116112375.0</td>\n",
       "      <td>52000000.0</td>\n",
       "      <td>2.232930</td>\n",
       "      <td>Martin Scorsese, Barbara De Fina, Robert Richa...</td>\n",
       "    </tr>\n",
       "    <tr>\n",
       "      <th>16</th>\n",
       "      <td>4584</td>\n",
       "      <td>Sense and Sensibility</td>\n",
       "      <td>Lose your heart and come to your senses.</td>\n",
       "      <td>Rich Mr. Dashwood dies, leaving his second wif...</td>\n",
       "      <td>136.0</td>\n",
       "      <td>en</td>\n",
       "      <td>Drama, Romance</td>\n",
       "      <td></td>\n",
       "      <td>Released</td>\n",
       "      <td>1995-12-13</td>\n",
       "      <td>1995.0</td>\n",
       "      <td>10.673167</td>\n",
       "      <td>7.2</td>\n",
       "      <td>Columbia Pictures Corporation, Mirage Enterprises</td>\n",
       "      <td>United Kingdom, United States of America</td>\n",
       "      <td>English</td>\n",
       "      <td>135000000.0</td>\n",
       "      <td>16500000.0</td>\n",
       "      <td>8.181818</td>\n",
       "      <td>Ang Lee, Jane Austen, Emma Thompson, Lindsay D...</td>\n",
       "    </tr>\n",
       "    <tr>\n",
       "      <th>17</th>\n",
       "      <td>5</td>\n",
       "      <td>Four Rooms</td>\n",
       "      <td>Twelve outrageous guests. Four scandalous requ...</td>\n",
       "      <td>It's Ted the Bellhop's first night on the job....</td>\n",
       "      <td>98.0</td>\n",
       "      <td>en</td>\n",
       "      <td>Crime, Comedy</td>\n",
       "      <td></td>\n",
       "      <td>Released</td>\n",
       "      <td>1995-12-09</td>\n",
       "      <td>1995.0</td>\n",
       "      <td>9.026586</td>\n",
       "      <td>6.5</td>\n",
       "      <td>Miramax Films, A Band Apart</td>\n",
       "      <td>United States of America</td>\n",
       "      <td>English</td>\n",
       "      <td>4300000.0</td>\n",
       "      <td>4000000.0</td>\n",
       "      <td>1.075000</td>\n",
       "      <td>Combustible Edison, Gary Frutkoff, Lance Brown...</td>\n",
       "    </tr>\n",
       "    <tr>\n",
       "      <th>18</th>\n",
       "      <td>9273</td>\n",
       "      <td>Ace Ventura: When Nature Calls</td>\n",
       "      <td>New animals. New adventures. Same hair.</td>\n",
       "      <td>Summoned from an ashram in Tibet, Ace finds hi...</td>\n",
       "      <td>90.0</td>\n",
       "      <td>en</td>\n",
       "      <td>Crime, Comedy, Adventure</td>\n",
       "      <td>Ace Ventura Collection</td>\n",
       "      <td>Released</td>\n",
       "      <td>1995-11-10</td>\n",
       "      <td>1995.0</td>\n",
       "      <td>8.205448</td>\n",
       "      <td>6.1</td>\n",
       "      <td>O Entertainment, Warner Bros., Morgan Creek Pr...</td>\n",
       "      <td>United States of America</td>\n",
       "      <td>English</td>\n",
       "      <td>212385533.0</td>\n",
       "      <td>30000000.0</td>\n",
       "      <td>7.079518</td>\n",
       "      <td>Steve Oedekerk, Jack Bernstein, Steve Oedekerk...</td>\n",
       "    </tr>\n",
       "    <tr>\n",
       "      <th>19</th>\n",
       "      <td>11517</td>\n",
       "      <td>Money Train</td>\n",
       "      <td>Get on, or GET OUT THE WAY!</td>\n",
       "      <td>A vengeful New York transit cop decides to ste...</td>\n",
       "      <td>103.0</td>\n",
       "      <td>en</td>\n",
       "      <td>Action, Comedy, Crime</td>\n",
       "      <td></td>\n",
       "      <td>Released</td>\n",
       "      <td>1995-11-21</td>\n",
       "      <td>1995.0</td>\n",
       "      <td>7.337906</td>\n",
       "      <td>5.4</td>\n",
       "      <td>Columbia Pictures</td>\n",
       "      <td>United States of America</td>\n",
       "      <td>English</td>\n",
       "      <td>35431113.0</td>\n",
       "      <td>60000000.0</td>\n",
       "      <td>0.590519</td>\n",
       "      <td>Joseph Ruben, Doug Richardson, Neil Canton, Tr...</td>\n",
       "    </tr>\n",
       "    <tr>\n",
       "      <th>20</th>\n",
       "      <td>8012</td>\n",
       "      <td>Get Shorty</td>\n",
       "      <td>The mob is tough, but it’s nothing like show b...</td>\n",
       "      <td>Chili Palmer is a Miami mobster who gets sent ...</td>\n",
       "      <td>105.0</td>\n",
       "      <td>en</td>\n",
       "      <td>Comedy, Thriller, Crime</td>\n",
       "      <td>Chili Palmer Collection</td>\n",
       "      <td>Released</td>\n",
       "      <td>1995-10-20</td>\n",
       "      <td>1995.0</td>\n",
       "      <td>12.669608</td>\n",
       "      <td>6.4</td>\n",
       "      <td>Jersey Films, Metro-Goldwyn-Mayer (MGM)</td>\n",
       "      <td>United States of America</td>\n",
       "      <td>English</td>\n",
       "      <td>115101622.0</td>\n",
       "      <td>30250000.0</td>\n",
       "      <td>3.805012</td>\n",
       "      <td>Barry Sonnenfeld, Elmore Leonard, Danny DeVito...</td>\n",
       "    </tr>\n",
       "    <tr>\n",
       "      <th>21</th>\n",
       "      <td>1710</td>\n",
       "      <td>Copycat</td>\n",
       "      <td>One man is copying the most notorious killers ...</td>\n",
       "      <td>An agoraphobic psychologist and a female detec...</td>\n",
       "      <td>124.0</td>\n",
       "      <td>en</td>\n",
       "      <td>Drama, Thriller</td>\n",
       "      <td></td>\n",
       "      <td>Released</td>\n",
       "      <td>1995-10-27</td>\n",
       "      <td>1995.0</td>\n",
       "      <td>10.701801</td>\n",
       "      <td>6.5</td>\n",
       "      <td>Regency Enterprises, New Regency Pictures</td>\n",
       "      <td>United States of America</td>\n",
       "      <td>English, Deutsch</td>\n",
       "      <td>0.0</td>\n",
       "      <td>0.0</td>\n",
       "      <td>0.000000</td>\n",
       "      <td>Mark Tarlov, Jon Amiel, Alan Heim, Jim Clark, ...</td>\n",
       "    </tr>\n",
       "    <tr>\n",
       "      <th>22</th>\n",
       "      <td>9691</td>\n",
       "      <td>Assassins</td>\n",
       "      <td>In the shadows of life, In the business of dea...</td>\n",
       "      <td>Assassin Robert Rath arrives at a funeral to k...</td>\n",
       "      <td>132.0</td>\n",
       "      <td>en</td>\n",
       "      <td>Action, Adventure, Crime, Thriller</td>\n",
       "      <td></td>\n",
       "      <td>Released</td>\n",
       "      <td>1995-10-06</td>\n",
       "      <td>1995.0</td>\n",
       "      <td>11.065939</td>\n",
       "      <td>6.0</td>\n",
       "      <td>Silver Pictures, Canal+, Warner Bros., Dino De...</td>\n",
       "      <td>France, United States of America</td>\n",
       "      <td>English, Español, Nederlands</td>\n",
       "      <td>30303072.0</td>\n",
       "      <td>50000000.0</td>\n",
       "      <td>0.606061</td>\n",
       "      <td>Richard Donner, Lilly Wachowski, Lana Wachowsk...</td>\n",
       "    </tr>\n",
       "    <tr>\n",
       "      <th>23</th>\n",
       "      <td>12665</td>\n",
       "      <td>Powder</td>\n",
       "      <td>An extraordinary encounter with another human ...</td>\n",
       "      <td>Harassed by classmates who won't accept his sh...</td>\n",
       "      <td>111.0</td>\n",
       "      <td>en</td>\n",
       "      <td>Drama, Fantasy, Science Fiction, Thriller</td>\n",
       "      <td></td>\n",
       "      <td>Released</td>\n",
       "      <td>1995-10-27</td>\n",
       "      <td>1995.0</td>\n",
       "      <td>12.133094</td>\n",
       "      <td>6.3</td>\n",
       "      <td>Caravan Pictures, Hollywood Pictures</td>\n",
       "      <td>United States of America</td>\n",
       "      <td>English</td>\n",
       "      <td>0.0</td>\n",
       "      <td>0.0</td>\n",
       "      <td>0.000000</td>\n",
       "      <td>Victor Salva, Victor Salva, Roger Birnbaum, Ri...</td>\n",
       "    </tr>\n",
       "    <tr>\n",
       "      <th>24</th>\n",
       "      <td>451</td>\n",
       "      <td>Leaving Las Vegas</td>\n",
       "      <td>I Love You... The Way You Are.</td>\n",
       "      <td>Ben Sanderson, an alcoholic Hollywood screenwr...</td>\n",
       "      <td>112.0</td>\n",
       "      <td>en</td>\n",
       "      <td>Drama, Romance</td>\n",
       "      <td></td>\n",
       "      <td>Released</td>\n",
       "      <td>1995-10-27</td>\n",
       "      <td>1995.0</td>\n",
       "      <td>10.332025</td>\n",
       "      <td>7.1</td>\n",
       "      <td>United Artists, Intial Productions</td>\n",
       "      <td>United States of America</td>\n",
       "      <td>English</td>\n",
       "      <td>49800000.0</td>\n",
       "      <td>3600000.0</td>\n",
       "      <td>13.833333</td>\n",
       "      <td>Stuart Reynolds , Mike Figgis, Mike Figgis, Mi...</td>\n",
       "    </tr>\n",
       "  </tbody>\n",
       "</table>\n",
       "</div>"
      ],
      "text/plain": [
       "       id                           title  \\\n",
       "0     862                       Toy Story   \n",
       "1    8844                         Jumanji   \n",
       "2   15602                Grumpier Old Men   \n",
       "3   31357               Waiting to Exhale   \n",
       "4   11862     Father of the Bride Part II   \n",
       "5     949                            Heat   \n",
       "6   11860                         Sabrina   \n",
       "7   45325                    Tom and Huck   \n",
       "8    9091                    Sudden Death   \n",
       "9     710                       GoldenEye   \n",
       "10   9087          The American President   \n",
       "11  12110     Dracula: Dead and Loving It   \n",
       "12  21032                           Balto   \n",
       "13  10858                           Nixon   \n",
       "14   1408                Cutthroat Island   \n",
       "15    524                          Casino   \n",
       "16   4584           Sense and Sensibility   \n",
       "17      5                      Four Rooms   \n",
       "18   9273  Ace Ventura: When Nature Calls   \n",
       "19  11517                     Money Train   \n",
       "20   8012                      Get Shorty   \n",
       "21   1710                         Copycat   \n",
       "22   9691                       Assassins   \n",
       "23  12665                          Powder   \n",
       "24    451               Leaving Las Vegas   \n",
       "\n",
       "                                              tagline  \\\n",
       "0                                                 NaN   \n",
       "1           Roll the dice and unleash the excitement!   \n",
       "2   Still Yelling. Still Fighting. Still Ready for...   \n",
       "3   Friends are the people who let you be yourself...   \n",
       "4   Just When His World Is Back To Normal... He's ...   \n",
       "5                            A Los Angeles Crime Saga   \n",
       "6   You are cordially invited to the most surprisi...   \n",
       "7                              The Original Bad Boys.   \n",
       "8                          Terror goes into overtime.   \n",
       "9                No limits. No fears. No substitutes.   \n",
       "10  Why can't the most powerful man in the world h...   \n",
       "11                                                NaN   \n",
       "12                     Part Dog. Part Wolf. All Hero.   \n",
       "13  Triumphant in Victory, Bitter in Defeat. He Ch...   \n",
       "14  The Course Has Been Set. There Is No Turning B...   \n",
       "15                   No one stays at the top forever.   \n",
       "16           Lose your heart and come to your senses.   \n",
       "17  Twelve outrageous guests. Four scandalous requ...   \n",
       "18            New animals. New adventures. Same hair.   \n",
       "19                        Get on, or GET OUT THE WAY!   \n",
       "20  The mob is tough, but it’s nothing like show b...   \n",
       "21  One man is copying the most notorious killers ...   \n",
       "22  In the shadows of life, In the business of dea...   \n",
       "23  An extraordinary encounter with another human ...   \n",
       "24                     I Love You... The Way You Are.   \n",
       "\n",
       "                                             overview  runtime  \\\n",
       "0   Led by Woody, Andy's toys live happily in his ...     81.0   \n",
       "1   When siblings Judy and Peter discover an encha...    104.0   \n",
       "2   A family wedding reignites the ancient feud be...    101.0   \n",
       "3   Cheated on, mistreated and stepped on, the wom...    127.0   \n",
       "4   Just when George Banks has recovered from his ...    106.0   \n",
       "5   Obsessive master thief, Neil McCauley leads a ...    170.0   \n",
       "6   An ugly duckling having undergone a remarkable...    127.0   \n",
       "7   A mischievous young boy, Tom Sawyer, witnesses...     97.0   \n",
       "8   International action superstar Jean Claude Van...    106.0   \n",
       "9   James Bond must unmask the mysterious head of ...    130.0   \n",
       "10  Widowed U.S. president Andrew Shepherd, one of...    106.0   \n",
       "11  When a lawyer shows up at the vampire's doorst...     88.0   \n",
       "12  An outcast half-wolf risks his life to prevent...     78.0   \n",
       "13  An all-star cast powers this epic look at Amer...    192.0   \n",
       "14  Morgan Adams and her slave, William Shaw, are ...    119.0   \n",
       "15  The life of the gambling paradise – Las Vegas ...    178.0   \n",
       "16  Rich Mr. Dashwood dies, leaving his second wif...    136.0   \n",
       "17  It's Ted the Bellhop's first night on the job....     98.0   \n",
       "18  Summoned from an ashram in Tibet, Ace finds hi...     90.0   \n",
       "19  A vengeful New York transit cop decides to ste...    103.0   \n",
       "20  Chili Palmer is a Miami mobster who gets sent ...    105.0   \n",
       "21  An agoraphobic psychologist and a female detec...    124.0   \n",
       "22  Assassin Robert Rath arrives at a funeral to k...    132.0   \n",
       "23  Harassed by classmates who won't accept his sh...    111.0   \n",
       "24  Ben Sanderson, an alcoholic Hollywood screenwr...    112.0   \n",
       "\n",
       "   original_language                                      Genre  \\\n",
       "0                 en                  Animation, Comedy, Family   \n",
       "1                 en                 Adventure, Fantasy, Family   \n",
       "2                 en                            Romance, Comedy   \n",
       "3                 en                     Comedy, Drama, Romance   \n",
       "4                 en                                     Comedy   \n",
       "5                 en             Action, Crime, Drama, Thriller   \n",
       "6                 en                            Comedy, Romance   \n",
       "7                 en           Action, Adventure, Drama, Family   \n",
       "8                 en                Action, Adventure, Thriller   \n",
       "9                 en                Adventure, Action, Thriller   \n",
       "10                en                     Comedy, Drama, Romance   \n",
       "11                en                             Comedy, Horror   \n",
       "12                en               Family, Animation, Adventure   \n",
       "13                en                             History, Drama   \n",
       "14                en                          Action, Adventure   \n",
       "15                en                               Drama, Crime   \n",
       "16                en                             Drama, Romance   \n",
       "17                en                              Crime, Comedy   \n",
       "18                en                   Crime, Comedy, Adventure   \n",
       "19                en                      Action, Comedy, Crime   \n",
       "20                en                    Comedy, Thriller, Crime   \n",
       "21                en                            Drama, Thriller   \n",
       "22                en         Action, Adventure, Crime, Thriller   \n",
       "23                en  Drama, Fantasy, Science Fiction, Thriller   \n",
       "24                en                             Drama, Romance   \n",
       "\n",
       "                        Franquicia    status release_date  release_year  \\\n",
       "0             Toy Story Collection  Released   1995-10-30        1995.0   \n",
       "1                                   Released   1995-12-15        1995.0   \n",
       "2        Grumpy Old Men Collection  Released   1995-12-22        1995.0   \n",
       "3                                   Released   1995-12-22        1995.0   \n",
       "4   Father of the Bride Collection  Released   1995-02-10        1995.0   \n",
       "5                                   Released   1995-12-15        1995.0   \n",
       "6                                   Released   1995-12-15        1995.0   \n",
       "7                                   Released   1995-12-22        1995.0   \n",
       "8                                   Released   1995-12-22        1995.0   \n",
       "9            James Bond Collection  Released   1995-11-16        1995.0   \n",
       "10                                  Released   1995-11-17        1995.0   \n",
       "11                                  Released   1995-12-22        1995.0   \n",
       "12                Balto Collection  Released   1995-12-22        1995.0   \n",
       "13                                  Released   1995-12-22        1995.0   \n",
       "14                                  Released   1995-12-22        1995.0   \n",
       "15                                  Released   1995-11-22        1995.0   \n",
       "16                                  Released   1995-12-13        1995.0   \n",
       "17                                  Released   1995-12-09        1995.0   \n",
       "18          Ace Ventura Collection  Released   1995-11-10        1995.0   \n",
       "19                                  Released   1995-11-21        1995.0   \n",
       "20         Chili Palmer Collection  Released   1995-10-20        1995.0   \n",
       "21                                  Released   1995-10-27        1995.0   \n",
       "22                                  Released   1995-10-06        1995.0   \n",
       "23                                  Released   1995-10-27        1995.0   \n",
       "24                                  Released   1995-10-27        1995.0   \n",
       "\n",
       "   popularity  vote_average  \\\n",
       "0   21.946943           7.7   \n",
       "1   17.015539           6.9   \n",
       "2     11.7129           6.5   \n",
       "3    3.859495           6.1   \n",
       "4    8.387519           5.7   \n",
       "5   17.924927           7.7   \n",
       "6    6.677277           6.2   \n",
       "7    2.561161           5.4   \n",
       "8     5.23158           5.5   \n",
       "9   14.686036           6.6   \n",
       "10   6.318445           6.5   \n",
       "11   5.430331           5.7   \n",
       "12  12.140733           7.1   \n",
       "13      5.092           7.1   \n",
       "14   7.284477           5.7   \n",
       "15  10.137389           7.8   \n",
       "16  10.673167           7.2   \n",
       "17   9.026586           6.5   \n",
       "18   8.205448           6.1   \n",
       "19   7.337906           5.4   \n",
       "20  12.669608           6.4   \n",
       "21  10.701801           6.5   \n",
       "22  11.065939           6.0   \n",
       "23  12.133094           6.3   \n",
       "24  10.332025           7.1   \n",
       "\n",
       "                                              Company  \\\n",
       "0                             Pixar Animation Studios   \n",
       "1   TriStar Pictures, Teitler Film, Interscope Com...   \n",
       "2                        Warner Bros., Lancaster Gate   \n",
       "3              Twentieth Century Fox Film Corporation   \n",
       "4          Sandollar Productions, Touchstone Pictures   \n",
       "5     Regency Enterprises, Forward Pass, Warner Bros.   \n",
       "6   Paramount Pictures, Scott Rudin Productions, M...   \n",
       "7                                Walt Disney Pictures   \n",
       "8   Universal Pictures, Imperial Entertainment, Si...   \n",
       "9                     United Artists, Eon Productions   \n",
       "10       Columbia Pictures, Castle Rock Entertainment   \n",
       "11  Columbia Pictures, Castle Rock Entertainment, ...   \n",
       "12  Universal Pictures, Amblin Entertainment, Ambl...   \n",
       "13  Hollywood Pictures, Cinergi Pictures Entertain...   \n",
       "14  Le Studio Canal+, Laurence Mark Productions, M...   \n",
       "15  Universal Pictures, Légende Entreprises, Syali...   \n",
       "16  Columbia Pictures Corporation, Mirage Enterprises   \n",
       "17                        Miramax Films, A Band Apart   \n",
       "18  O Entertainment, Warner Bros., Morgan Creek Pr...   \n",
       "19                                  Columbia Pictures   \n",
       "20            Jersey Films, Metro-Goldwyn-Mayer (MGM)   \n",
       "21          Regency Enterprises, New Regency Pictures   \n",
       "22  Silver Pictures, Canal+, Warner Bros., Dino De...   \n",
       "23               Caravan Pictures, Hollywood Pictures   \n",
       "24                 United Artists, Intial Productions   \n",
       "\n",
       "                                             Country  \\\n",
       "0                           United States of America   \n",
       "1                           United States of America   \n",
       "2                           United States of America   \n",
       "3                           United States of America   \n",
       "4                           United States of America   \n",
       "5                           United States of America   \n",
       "6                  Germany, United States of America   \n",
       "7                           United States of America   \n",
       "8                           United States of America   \n",
       "9           United Kingdom, United States of America   \n",
       "10                          United States of America   \n",
       "11                  France, United States of America   \n",
       "12                          United States of America   \n",
       "13                          United States of America   \n",
       "14  France, Germany, Italy, United States of America   \n",
       "15                  France, United States of America   \n",
       "16          United Kingdom, United States of America   \n",
       "17                          United States of America   \n",
       "18                          United States of America   \n",
       "19                          United States of America   \n",
       "20                          United States of America   \n",
       "21                          United States of America   \n",
       "22                  France, United States of America   \n",
       "23                          United States of America   \n",
       "24                          United States of America   \n",
       "\n",
       "                 Spoken_Language      revenue      budget     return  \\\n",
       "0                        English  373554033.0  30000000.0  12.451801   \n",
       "1              English, Français  262797249.0  65000000.0   4.043035   \n",
       "2                        English          0.0         0.0   0.000000   \n",
       "3                        English   81452156.0  16000000.0   5.090760   \n",
       "4                        English   76578911.0         0.0        inf   \n",
       "5               English, Español  187436818.0  60000000.0   3.123947   \n",
       "6              Français, English          0.0  58000000.0   0.000000   \n",
       "7               English, Deutsch          0.0         0.0   0.000000   \n",
       "8                        English   64350171.0  35000000.0   1.838576   \n",
       "9      English, Pусский, Español  352194034.0  58000000.0   6.072311   \n",
       "10                       English  107879496.0  62000000.0   1.739992   \n",
       "11              English, Deutsch          0.0         0.0   0.000000   \n",
       "12                       English   11348324.0         0.0        inf   \n",
       "13                       English   13681765.0  44000000.0   0.310949   \n",
       "14                English, Latin   10017322.0  98000000.0   0.102218   \n",
       "15                       English  116112375.0  52000000.0   2.232930   \n",
       "16                       English  135000000.0  16500000.0   8.181818   \n",
       "17                       English    4300000.0   4000000.0   1.075000   \n",
       "18                       English  212385533.0  30000000.0   7.079518   \n",
       "19                       English   35431113.0  60000000.0   0.590519   \n",
       "20                       English  115101622.0  30250000.0   3.805012   \n",
       "21              English, Deutsch          0.0         0.0   0.000000   \n",
       "22  English, Español, Nederlands   30303072.0  50000000.0   0.606061   \n",
       "23                       English          0.0         0.0   0.000000   \n",
       "24                       English   49800000.0   3600000.0  13.833333   \n",
       "\n",
       "                                             Director  \n",
       "0   John Lasseter, Joss Whedon, Andrew Stanton, Jo...  \n",
       "1   Larry J. Franco, Jonathan Hensleigh, James Hor...  \n",
       "2   Howard Deutch, Mark Steven Johnson, Mark Steve...  \n",
       "3   Forest Whitaker, Ronald Bass, Ronald Bass, Ezr...  \n",
       "4   Alan Silvestri, Elliot Davis, Nancy Meyers, Na...  \n",
       "5   Michael Mann, Michael Mann, Art Linson, Michae...  \n",
       "6   Sydney Pollack, Barbara Benedek, Sydney Pollac...  \n",
       "7   David Loughery, Stephen Sommers, Peter Hewitt,...  \n",
       "8   Peter Hyams, Karen Elise Baldwin, Gene Quintan...  \n",
       "9   Martin Campbell, Ian Fleming, Jeffrey Caine, B...  \n",
       "10  John Seale, Rob Reiner, Rob Reiner, Robert Lei...  \n",
       "11  Adam Weiss, Mel Brooks, Mel Brooks, Mel Brooks...  \n",
       "12  Steven Spielberg, Kathleen Kennedy, Roger S.H....  \n",
       "13  Oliver Stone, Oliver Stone, Dan Halsted, John ...  \n",
       "14  Peter Levy, Maggie Gray, Norman Garwood, Mario...  \n",
       "15  Martin Scorsese, Barbara De Fina, Robert Richa...  \n",
       "16  Ang Lee, Jane Austen, Emma Thompson, Lindsay D...  \n",
       "17  Combustible Edison, Gary Frutkoff, Lance Brown...  \n",
       "18  Steve Oedekerk, Jack Bernstein, Steve Oedekerk...  \n",
       "19  Joseph Ruben, Doug Richardson, Neil Canton, Tr...  \n",
       "20  Barry Sonnenfeld, Elmore Leonard, Danny DeVito...  \n",
       "21  Mark Tarlov, Jon Amiel, Alan Heim, Jim Clark, ...  \n",
       "22  Richard Donner, Lilly Wachowski, Lana Wachowsk...  \n",
       "23  Victor Salva, Victor Salva, Roger Birnbaum, Ri...  \n",
       "24  Stuart Reynolds , Mike Figgis, Mike Figgis, Mi...  "
      ]
     },
     "execution_count": 50,
     "metadata": {},
     "output_type": "execute_result"
    }
   ],
   "source": [
    "final.head(25)"
   ]
  },
  {
   "attachments": {},
   "cell_type": "markdown",
   "metadata": {},
   "source": [
    "guardo el csv final"
   ]
  },
  {
   "cell_type": "code",
   "execution_count": 51,
   "metadata": {},
   "outputs": [],
   "source": [
    "final_mov= final.to_csv('final_movie.csv', index=False, header=True, sep=',')"
   ]
  },
  {
   "cell_type": "code",
   "execution_count": 52,
   "metadata": {},
   "outputs": [
    {
     "data": {
      "text/html": [
       "<div>\n",
       "<style scoped>\n",
       "    .dataframe tbody tr th:only-of-type {\n",
       "        vertical-align: middle;\n",
       "    }\n",
       "\n",
       "    .dataframe tbody tr th {\n",
       "        vertical-align: top;\n",
       "    }\n",
       "\n",
       "    .dataframe thead th {\n",
       "        text-align: right;\n",
       "    }\n",
       "</style>\n",
       "<table border=\"1\" class=\"dataframe\">\n",
       "  <thead>\n",
       "    <tr style=\"text-align: right;\">\n",
       "      <th></th>\n",
       "      <th>id</th>\n",
       "      <th>title</th>\n",
       "      <th>tagline</th>\n",
       "      <th>overview</th>\n",
       "      <th>runtime</th>\n",
       "      <th>original_language</th>\n",
       "      <th>Genre</th>\n",
       "      <th>Franquicia</th>\n",
       "      <th>status</th>\n",
       "      <th>release_date</th>\n",
       "      <th>release_year</th>\n",
       "      <th>popularity</th>\n",
       "      <th>vote_average</th>\n",
       "      <th>Company</th>\n",
       "      <th>Country</th>\n",
       "      <th>Spoken_Language</th>\n",
       "      <th>revenue</th>\n",
       "      <th>budget</th>\n",
       "      <th>return</th>\n",
       "      <th>Director</th>\n",
       "    </tr>\n",
       "  </thead>\n",
       "  <tbody>\n",
       "  </tbody>\n",
       "</table>\n",
       "</div>"
      ],
      "text/plain": [
       "Empty DataFrame\n",
       "Columns: [id, title, tagline, overview, runtime, original_language, Genre, Franquicia, status, release_date, release_year, popularity, vote_average, Company, Country, Spoken_Language, revenue, budget, return, Director]\n",
       "Index: []"
      ]
     },
     "execution_count": 52,
     "metadata": {},
     "output_type": "execute_result"
    }
   ],
   "source": [
    "final.head(0)"
   ]
  },
  {
   "attachments": {},
   "cell_type": "markdown",
   "metadata": {},
   "source": [
    "def peliculas_idioma( Idioma: str ): Se ingresa un idioma (como están escritos en el dataset, no hay que traducirlos!). Debe devolver la cantidad de películas producidas en ese idioma. Ejemplo de retorno: X cantidad de películas fueron estrenadas en idioma"
   ]
  },
  {
   "cell_type": "code",
   "execution_count": null,
   "metadata": {},
   "outputs": [],
   "source": [
    "def peliculas_idioma(Idioma):\n",
    "    count = 0\n",
    "    for i in range(len(final)):\n",
    "     if final['original_language']. iloc[i] == Idioma:\n",
    "        count += 1\n",
    "    resultado ={'CANTIDAD DE PELICULAS EN ESE IDIOMA': count}\n",
    "    return resultado"
   ]
  },
  {
   "cell_type": "code",
   "execution_count": null,
   "metadata": {},
   "outputs": [
    {
     "data": {
      "text/plain": [
       "{'CANTIDAD DE PELICULAS EN ESE IDIOMA': 2437}"
      ]
     },
     "execution_count": 224,
     "metadata": {},
     "output_type": "execute_result"
    }
   ],
   "source": [
    "peliculas_idioma('fr')"
   ]
  },
  {
   "attachments": {},
   "cell_type": "markdown",
   "metadata": {},
   "source": [
    "def peliculas_duracion( Pelicula: str ): Se ingresa una pelicula. Debe devolver la duracion y el año. Ejemplo de retorno: X . Duración: x. Año: x"
   ]
  },
  {
   "cell_type": "code",
   "execution_count": null,
   "metadata": {},
   "outputs": [],
   "source": [
    "def peliculas_duracion(Pelicula):\n",
    "    pel_fil = final[(final['title']).str.contains(Pelicula, na = False)]\n",
    "    duracion = pel_fil['runtime'].values[0] if not pel_fil.empty else None\n",
    "    anio = pel_fil['release_year'].values[0] if not pel_fil.empty else None\n",
    "    return{'PELICULA': Pelicula, 'DURACION': duracion, 'AÑO': anio}"
   ]
  },
  {
   "cell_type": "code",
   "execution_count": null,
   "metadata": {},
   "outputs": [
    {
     "data": {
      "text/plain": [
       "{'PELICULA': 'Serendipity', 'DURACION': 90.0, 'AÑO': 2001.0}"
      ]
     },
     "execution_count": 198,
     "metadata": {},
     "output_type": "execute_result"
    }
   ],
   "source": [
    "peliculas_duracion('Serendipity')"
   ]
  },
  {
   "attachments": {},
   "cell_type": "markdown",
   "metadata": {},
   "source": [
    "-def franquicia( Franquicia: str ): Se ingresa la franquicia, retornando la cantidad de peliculas, ganancia total y promedio\n",
    "                    Ejemplo de retorno: La franquicia X posee X peliculas, una ganancia total de x y una ganancia promedio de xx"
   ]
  },
  {
   "cell_type": "code",
   "execution_count": null,
   "metadata": {},
   "outputs": [],
   "source": [
    "def franquicia(franquicia):\n",
    "   \n",
    "    lista_peliculas_franquicia = final[(final['Franquicia'] == franquicia)].drop_duplicates(subset='id')\n",
    "\n",
    "    \n",
    "    cantidad_peliculas_franq = (lista_peliculas_franquicia).shape[0]\n",
    "    revenue_franq = lista_peliculas_franquicia['revenue'].sum()\n",
    "    promedio_franq = revenue_franq/cantidad_peliculas_franq\n",
    "\n",
    "    return {'FRANQUICIA':franquicia, 'CANTIDAD':cantidad_peliculas_franq, 'GANANCIA TOTAL':revenue_franq, 'GANACIA PROMEDIO':promedio_franq}\n"
   ]
  },
  {
   "cell_type": "code",
   "execution_count": null,
   "metadata": {},
   "outputs": [
    {
     "data": {
      "text/plain": [
       "{'FRANQUICIA': 'Ace Ventura Collection',\n",
       " 'CANTIDAD': 3,\n",
       " 'GANANCIA TOTAL': 319602929.0,\n",
       " 'GANACIA PROMEDIO': 106534309.66666667}"
      ]
     },
     "execution_count": 132,
     "metadata": {},
     "output_type": "execute_result"
    }
   ],
   "source": [
    "franquicia('Ace Ventura Collection')"
   ]
  },
  {
   "attachments": {},
   "cell_type": "markdown",
   "metadata": {},
   "source": [
    "def peliculas_pais( Pais: str ): Se ingresa un país (como están escritos en el dataset, no hay que traducirlos!), retornando la cantidad de peliculas producidas en el mismo.\n",
    "                    Ejemplo de retorno: Se produjeron X películas en el país X"
   ]
  },
  {
   "cell_type": "code",
   "execution_count": null,
   "metadata": {},
   "outputs": [],
   "source": [
    "def peliculas_pais(pais):\n",
    "    # Filtramos el dataframe y contamos filas\n",
    "    Filtro = final[(final['Country'] == pais)]\n",
    "    Unicas = Filtro.drop_duplicates(subset='id')    \n",
    "    Respuesta = Unicas.shape[0]\n",
    "    \n",
    "    return {'PAIS':pais, 'SE PRODUJERON':Respuesta}"
   ]
  },
  {
   "cell_type": "code",
   "execution_count": null,
   "metadata": {},
   "outputs": [
    {
     "data": {
      "text/plain": [
       "{'PAIS': 'United States of America', 'SE PRODUJERON': 17836}"
      ]
     },
     "execution_count": 140,
     "metadata": {},
     "output_type": "execute_result"
    }
   ],
   "source": [
    "peliculas_pais('United States of America')"
   ]
  },
  {
   "attachments": {},
   "cell_type": "markdown",
   "metadata": {},
   "source": [
    "def productoras_exitosas( Productora: str ): Se ingresa la productora, entregandote el revunue total y la cantidad de peliculas que realizo. Ejemplo de retorno: La productora X ha tenido un revenue de x\n"
   ]
  },
  {
   "cell_type": "code",
   "execution_count": null,
   "metadata": {},
   "outputs": [],
   "source": [
    "def productoras_exitosas(productora): \n",
    "    '''Ingresas la productora, retornando la ganancia total y la cantidad de peliculas que produjeron\n",
    "    ''' \n",
    "    # Filtramos el dataframe\n",
    "    peliculas_producidas = final[(final['Company'] == productora)].drop_duplicates(subset='id')\n",
    "\n",
    "    # Calculamos\n",
    "    cantidad_producida = (peliculas_producidas).shape[0]\n",
    "    revenue_prod = peliculas_producidas['revenue'].sum()\n",
    "\n",
    "    return {'PRODUCTORA':productora, 'REVENUE':revenue_prod, 'CANTIDAD':cantidad_producida}"
   ]
  },
  {
   "cell_type": "code",
   "execution_count": null,
   "metadata": {},
   "outputs": [
    {
     "data": {
      "text/plain": [
       "{'PRODUCTORA': 'Universal Studios', 'REVENUE': 178126093.0, 'CANTIDAD': 20}"
      ]
     },
     "execution_count": 160,
     "metadata": {},
     "output_type": "execute_result"
    }
   ],
   "source": [
    "productoras_exitosas('Universal Studios')"
   ]
  },
  {
   "attachments": {},
   "cell_type": "markdown",
   "metadata": {},
   "source": [
    "def get_director( nombre_director ): Se ingresa el nombre de un director que se encuentre dentro de un dataset debiendo devolver el éxito del mismo medido a través del retorno. Además, deberá devolver el nombre de cada película con la fecha de lanzamiento, retorno individual, costo y ganancia de la misma, en formato lista."
   ]
  },
  {
   "cell_type": "code",
   "execution_count": 53,
   "metadata": {},
   "outputs": [],
   "source": [
    "def get_director(nombre_director):\n",
    "    retorno = []\n",
    "    peliculas = []\n",
    "    indice = []\n",
    "    for index, row in final.iterrows():\n",
    "        if nombre_director in row ['Director']:\n",
    "            peliculas.append(row['title'])\n",
    "            retorno.append(row['return'])\n",
    "            indice.append(index)\n",
    "        else:\n",
    "            continue\n",
    "    new_retorno = [valor for valor in retorno if valor != 0]\n",
    "    retorno_final = sum(new_retorno)\n",
    "    retorno_sum = sum (retorno)\n",
    "\n",
    "    if len(peliculas) > 1:\n",
    "        promedio = retorno_final/len(new_retorno)\n",
    "        peliculas_seleccionadas = final.loc[indice]\n",
    "        peliculas_part = []\n",
    "        fecha_lanzamiento = []\n",
    "        retorno = []\n",
    "        costo = []\n",
    "        revenue = []\n",
    "\n",
    "        for _, fila in peliculas_seleccionadas.iterrows():\n",
    "            peliculas_part.append(fila['title'])\n",
    "            fecha_lanzamiento.append(fila['release_date'])\n",
    "            revenue.append(fila['revenue'])\n",
    "            costo.append(fila['budget'])\n",
    "            retorno.append(fila['return'])\n",
    "\n",
    "    return{'DIRECTOR':nombre_director, 'RETORNO TOTAL':retorno_final,'PELICULAS':peliculas_part,'ANIO':fecha_lanzamiento,'RETORNO_PELICULA':retorno,'BUDGE':costo,'REVENEU': revenue}\n"
   ]
  },
  {
   "cell_type": "code",
   "execution_count": 54,
   "metadata": {},
   "outputs": [
    {
     "data": {
      "text/plain": [
       "{'DIRECTOR': 'Peter Chelsom',\n",
       " 'RETORNO TOTAL': 10.730407134920634,\n",
       " 'PELICULAS': ['Hear My Song',\n",
       "  'The Mighty',\n",
       "  'Funny Bones',\n",
       "  'Town & Country',\n",
       "  'Serendipity',\n",
       "  'Shall We Dance?',\n",
       "  'Hannah Montana: The Movie',\n",
       "  'Protektor',\n",
       "  \"L'Inhumaine\"],\n",
       " 'ANIO': ['1991-12-27',\n",
       "  '1998-10-23',\n",
       "  '1995-09-20',\n",
       "  '2001-04-27',\n",
       "  '2001-10-05',\n",
       "  '2004-10-15',\n",
       "  '2009-04-10',\n",
       "  '2009-09-22',\n",
       "  '1924-12-12'],\n",
       " 'RETORNO_PELICULA': [0.0,\n",
       "  0.0,\n",
       "  0.0,\n",
       "  0.11524767777777778,\n",
       "  2.7684394285714284,\n",
       "  3.4025692,\n",
       "  4.444150828571429,\n",
       "  0.0,\n",
       "  0.0],\n",
       " 'BUDGE': [0.0,\n",
       "  0.0,\n",
       "  0.0,\n",
       "  90000000.0,\n",
       "  28000000.0,\n",
       "  50000000.0,\n",
       "  35000000.0,\n",
       "  0.0,\n",
       "  0.0],\n",
       " 'REVENEU': [0.0,\n",
       "  0.0,\n",
       "  0.0,\n",
       "  10372291.0,\n",
       "  77516304.0,\n",
       "  170128460.0,\n",
       "  155545279.0,\n",
       "  0.0,\n",
       "  0.0]}"
      ]
     },
     "execution_count": 54,
     "metadata": {},
     "output_type": "execute_result"
    }
   ],
   "source": [
    "get_director('Peter Chelsom')"
   ]
  }
 ],
 "metadata": {
  "kernelspec": {
   "display_name": "Python 3",
   "language": "python",
   "name": "python3"
  },
  "language_info": {
   "codemirror_mode": {
    "name": "ipython",
    "version": 3
   },
   "file_extension": ".py",
   "mimetype": "text/x-python",
   "name": "python",
   "nbconvert_exporter": "python",
   "pygments_lexer": "ipython3",
   "version": "3.10.7"
  },
  "orig_nbformat": 4
 },
 "nbformat": 4,
 "nbformat_minor": 2
}
